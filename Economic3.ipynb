{
 "cells": [
  {
   "cell_type": "markdown",
   "id": "185f8c0e",
   "metadata": {},
   "source": [
    "# Importing libraries and loading data"
   ]
  },
  {
   "cell_type": "code",
   "execution_count": 41,
   "id": "e21c45dc",
   "metadata": {},
   "outputs": [],
   "source": [
    "import os\n",
    "import pandas as pd\n",
    "import  numpy as np\n",
    "import matplotlib as plt\n",
    "%matplotlib inline\n",
    "import seaborn as sns\n",
    "import warnings\n",
    "warnings.simplefilter(\"ignore\")"
   ]
  },
  {
   "cell_type": "code",
   "execution_count": 42,
   "id": "277547c1",
   "metadata": {},
   "outputs": [],
   "source": [
    "#Read files:\n",
    "train = pd.read_csv(\"Train.csv\")\n",
    "test = pd.read_csv(\"Test.csv\")\n",
    "sub= pd.read_csv(\"SampleSubmission.csv\")"
   ]
  },
  {
   "cell_type": "markdown",
   "id": "558e46f4",
   "metadata": {},
   "source": [
    "### combine both train and test data sets into one"
   ]
  },
  {
   "cell_type": "code",
   "execution_count": 43,
   "id": "19f55431",
   "metadata": {},
   "outputs": [
    {
     "data": {
      "text/plain": [
       "['ID',\n",
       " 'country',\n",
       " 'year',\n",
       " 'urban_or_rural',\n",
       " 'ghsl_water_surface',\n",
       " 'ghsl_built_pre_1975',\n",
       " 'ghsl_built_1975_to_1990',\n",
       " 'ghsl_built_1990_to_2000',\n",
       " 'ghsl_built_2000_to_2014',\n",
       " 'ghsl_not_built_up',\n",
       " 'ghsl_pop_density',\n",
       " 'landcover_crops_fraction',\n",
       " 'landcover_urban_fraction',\n",
       " 'landcover_water_permanent_10km_fraction',\n",
       " 'landcover_water_seasonal_10km_fraction',\n",
       " 'nighttime_lights',\n",
       " 'dist_to_capital',\n",
       " 'dist_to_shoreline',\n",
       " 'Target']"
      ]
     },
     "execution_count": 43,
     "metadata": {},
     "output_type": "execute_result"
    }
   ],
   "source": [
    "data=pd.concat([train,test],sort=False).reset_index(drop=True)\n",
    "data.columns.tolist()"
   ]
  },
  {
   "cell_type": "code",
   "execution_count": 44,
   "id": "4e464c75",
   "metadata": {},
   "outputs": [
    {
     "data": {
      "text/html": [
       "<div>\n",
       "<style scoped>\n",
       "    .dataframe tbody tr th:only-of-type {\n",
       "        vertical-align: middle;\n",
       "    }\n",
       "\n",
       "    .dataframe tbody tr th {\n",
       "        vertical-align: top;\n",
       "    }\n",
       "\n",
       "    .dataframe thead th {\n",
       "        text-align: right;\n",
       "    }\n",
       "</style>\n",
       "<table border=\"1\" class=\"dataframe\">\n",
       "  <thead>\n",
       "    <tr style=\"text-align: right;\">\n",
       "      <th></th>\n",
       "      <th>ID</th>\n",
       "      <th>country</th>\n",
       "      <th>year</th>\n",
       "      <th>urban_or_rural</th>\n",
       "      <th>ghsl_water_surface</th>\n",
       "      <th>ghsl_built_pre_1975</th>\n",
       "      <th>ghsl_built_1975_to_1990</th>\n",
       "      <th>ghsl_built_1990_to_2000</th>\n",
       "      <th>ghsl_built_2000_to_2014</th>\n",
       "      <th>ghsl_not_built_up</th>\n",
       "      <th>ghsl_pop_density</th>\n",
       "      <th>landcover_crops_fraction</th>\n",
       "      <th>landcover_urban_fraction</th>\n",
       "      <th>landcover_water_permanent_10km_fraction</th>\n",
       "      <th>landcover_water_seasonal_10km_fraction</th>\n",
       "      <th>nighttime_lights</th>\n",
       "      <th>dist_to_capital</th>\n",
       "      <th>dist_to_shoreline</th>\n",
       "      <th>Target</th>\n",
       "    </tr>\n",
       "  </thead>\n",
       "  <tbody>\n",
       "    <tr>\n",
       "      <th>0</th>\n",
       "      <td>ID_AAIethGy</td>\n",
       "      <td>Ethiopia</td>\n",
       "      <td>2016</td>\n",
       "      <td>R</td>\n",
       "      <td>0.0</td>\n",
       "      <td>0.000000</td>\n",
       "      <td>0.000000</td>\n",
       "      <td>0.000055</td>\n",
       "      <td>0.000536</td>\n",
       "      <td>0.999408</td>\n",
       "      <td>12.146134</td>\n",
       "      <td>25.489659</td>\n",
       "      <td>0.879484</td>\n",
       "      <td>0.000000</td>\n",
       "      <td>0.000000</td>\n",
       "      <td>0.000000</td>\n",
       "      <td>278.788451</td>\n",
       "      <td>769.338378</td>\n",
       "      <td>0.132783</td>\n",
       "    </tr>\n",
       "    <tr>\n",
       "      <th>1</th>\n",
       "      <td>ID_AAYiaCeL</td>\n",
       "      <td>Ethiopia</td>\n",
       "      <td>2005</td>\n",
       "      <td>R</td>\n",
       "      <td>0.0</td>\n",
       "      <td>0.000000</td>\n",
       "      <td>0.000110</td>\n",
       "      <td>0.000000</td>\n",
       "      <td>0.000018</td>\n",
       "      <td>0.999872</td>\n",
       "      <td>113.806716</td>\n",
       "      <td>64.136053</td>\n",
       "      <td>0.601427</td>\n",
       "      <td>0.000000</td>\n",
       "      <td>0.005427</td>\n",
       "      <td>0.000000</td>\n",
       "      <td>200.986978</td>\n",
       "      <td>337.135243</td>\n",
       "      <td>0.004898</td>\n",
       "    </tr>\n",
       "    <tr>\n",
       "      <th>2</th>\n",
       "      <td>ID_AAdurmKj</td>\n",
       "      <td>Mozambique</td>\n",
       "      <td>2009</td>\n",
       "      <td>R</td>\n",
       "      <td>0.0</td>\n",
       "      <td>0.000000</td>\n",
       "      <td>0.000000</td>\n",
       "      <td>0.000000</td>\n",
       "      <td>0.000000</td>\n",
       "      <td>1.000000</td>\n",
       "      <td>0.000000</td>\n",
       "      <td>4.400096</td>\n",
       "      <td>0.131900</td>\n",
       "      <td>0.000000</td>\n",
       "      <td>0.003078</td>\n",
       "      <td>0.000000</td>\n",
       "      <td>642.594208</td>\n",
       "      <td>169.913773</td>\n",
       "      <td>0.097320</td>\n",
       "    </tr>\n",
       "    <tr>\n",
       "      <th>3</th>\n",
       "      <td>ID_AAgNHles</td>\n",
       "      <td>Malawi</td>\n",
       "      <td>2015</td>\n",
       "      <td>R</td>\n",
       "      <td>0.0</td>\n",
       "      <td>0.000141</td>\n",
       "      <td>0.000181</td>\n",
       "      <td>0.000254</td>\n",
       "      <td>0.000228</td>\n",
       "      <td>0.999195</td>\n",
       "      <td>5.213320</td>\n",
       "      <td>25.379371</td>\n",
       "      <td>2.017136</td>\n",
       "      <td>11.293841</td>\n",
       "      <td>0.131035</td>\n",
       "      <td>0.000000</td>\n",
       "      <td>365.349451</td>\n",
       "      <td>613.591610</td>\n",
       "      <td>0.304107</td>\n",
       "    </tr>\n",
       "    <tr>\n",
       "      <th>4</th>\n",
       "      <td>ID_AAishfND</td>\n",
       "      <td>Guinea</td>\n",
       "      <td>2012</td>\n",
       "      <td>U</td>\n",
       "      <td>0.0</td>\n",
       "      <td>0.011649</td>\n",
       "      <td>0.017560</td>\n",
       "      <td>0.017383</td>\n",
       "      <td>0.099875</td>\n",
       "      <td>0.853533</td>\n",
       "      <td>31.734661</td>\n",
       "      <td>5.081620</td>\n",
       "      <td>22.815984</td>\n",
       "      <td>0.005047</td>\n",
       "      <td>0.130475</td>\n",
       "      <td>1.461894</td>\n",
       "      <td>222.867189</td>\n",
       "      <td>192.926363</td>\n",
       "      <td>0.605328</td>\n",
       "    </tr>\n",
       "  </tbody>\n",
       "</table>\n",
       "</div>"
      ],
      "text/plain": [
       "            ID     country  year urban_or_rural  ghsl_water_surface  \\\n",
       "0  ID_AAIethGy    Ethiopia  2016              R                 0.0   \n",
       "1  ID_AAYiaCeL    Ethiopia  2005              R                 0.0   \n",
       "2  ID_AAdurmKj  Mozambique  2009              R                 0.0   \n",
       "3  ID_AAgNHles      Malawi  2015              R                 0.0   \n",
       "4  ID_AAishfND      Guinea  2012              U                 0.0   \n",
       "\n",
       "   ghsl_built_pre_1975  ghsl_built_1975_to_1990  ghsl_built_1990_to_2000  \\\n",
       "0             0.000000                 0.000000                 0.000055   \n",
       "1             0.000000                 0.000110                 0.000000   \n",
       "2             0.000000                 0.000000                 0.000000   \n",
       "3             0.000141                 0.000181                 0.000254   \n",
       "4             0.011649                 0.017560                 0.017383   \n",
       "\n",
       "   ghsl_built_2000_to_2014  ghsl_not_built_up  ghsl_pop_density  \\\n",
       "0                 0.000536           0.999408         12.146134   \n",
       "1                 0.000018           0.999872        113.806716   \n",
       "2                 0.000000           1.000000          0.000000   \n",
       "3                 0.000228           0.999195          5.213320   \n",
       "4                 0.099875           0.853533         31.734661   \n",
       "\n",
       "   landcover_crops_fraction  landcover_urban_fraction  \\\n",
       "0                 25.489659                  0.879484   \n",
       "1                 64.136053                  0.601427   \n",
       "2                  4.400096                  0.131900   \n",
       "3                 25.379371                  2.017136   \n",
       "4                  5.081620                 22.815984   \n",
       "\n",
       "   landcover_water_permanent_10km_fraction  \\\n",
       "0                                 0.000000   \n",
       "1                                 0.000000   \n",
       "2                                 0.000000   \n",
       "3                                11.293841   \n",
       "4                                 0.005047   \n",
       "\n",
       "   landcover_water_seasonal_10km_fraction  nighttime_lights  dist_to_capital  \\\n",
       "0                                0.000000          0.000000       278.788451   \n",
       "1                                0.005427          0.000000       200.986978   \n",
       "2                                0.003078          0.000000       642.594208   \n",
       "3                                0.131035          0.000000       365.349451   \n",
       "4                                0.130475          1.461894       222.867189   \n",
       "\n",
       "   dist_to_shoreline    Target  \n",
       "0         769.338378  0.132783  \n",
       "1         337.135243  0.004898  \n",
       "2         169.913773  0.097320  \n",
       "3         613.591610  0.304107  \n",
       "4         192.926363  0.605328  "
      ]
     },
     "execution_count": 44,
     "metadata": {},
     "output_type": "execute_result"
    }
   ],
   "source": [
    "data.head()"
   ]
  },
  {
   "cell_type": "markdown",
   "id": "a5b42767",
   "metadata": {},
   "source": [
    "# EDA"
   ]
  },
  {
   "cell_type": "code",
   "execution_count": 45,
   "id": "94564dea",
   "metadata": {},
   "outputs": [
    {
     "data": {
      "text/plain": [
       "(28648, 19)"
      ]
     },
     "execution_count": 45,
     "metadata": {},
     "output_type": "execute_result"
    }
   ],
   "source": [
    "data.shape"
   ]
  },
  {
   "cell_type": "code",
   "execution_count": 46,
   "id": "0cbbcd1c",
   "metadata": {},
   "outputs": [
    {
     "name": "stdout",
     "output_type": "stream",
     "text": [
      "<class 'pandas.core.frame.DataFrame'>\n",
      "RangeIndex: 28648 entries, 0 to 28647\n",
      "Data columns (total 19 columns):\n",
      " #   Column                                   Non-Null Count  Dtype  \n",
      "---  ------                                   --------------  -----  \n",
      " 0   ID                                       28648 non-null  object \n",
      " 1   country                                  28648 non-null  object \n",
      " 2   year                                     28648 non-null  int64  \n",
      " 3   urban_or_rural                           28648 non-null  object \n",
      " 4   ghsl_water_surface                       28648 non-null  float64\n",
      " 5   ghsl_built_pre_1975                      28648 non-null  float64\n",
      " 6   ghsl_built_1975_to_1990                  28648 non-null  float64\n",
      " 7   ghsl_built_1990_to_2000                  28648 non-null  float64\n",
      " 8   ghsl_built_2000_to_2014                  28648 non-null  float64\n",
      " 9   ghsl_not_built_up                        28648 non-null  float64\n",
      " 10  ghsl_pop_density                         28648 non-null  float64\n",
      " 11  landcover_crops_fraction                 28648 non-null  float64\n",
      " 12  landcover_urban_fraction                 28648 non-null  float64\n",
      " 13  landcover_water_permanent_10km_fraction  28648 non-null  float64\n",
      " 14  landcover_water_seasonal_10km_fraction   28648 non-null  float64\n",
      " 15  nighttime_lights                         28648 non-null  float64\n",
      " 16  dist_to_capital                          28648 non-null  float64\n",
      " 17  dist_to_shoreline                        28648 non-null  float64\n",
      " 18  Target                                   21454 non-null  float64\n",
      "dtypes: float64(15), int64(1), object(3)\n",
      "memory usage: 4.2+ MB\n"
     ]
    }
   ],
   "source": [
    "data.info()"
   ]
  },
  {
   "cell_type": "code",
   "execution_count": 47,
   "id": "16d891c2",
   "metadata": {},
   "outputs": [
    {
     "data": {
      "text/html": [
       "<div>\n",
       "<style scoped>\n",
       "    .dataframe tbody tr th:only-of-type {\n",
       "        vertical-align: middle;\n",
       "    }\n",
       "\n",
       "    .dataframe tbody tr th {\n",
       "        vertical-align: top;\n",
       "    }\n",
       "\n",
       "    .dataframe thead th {\n",
       "        text-align: right;\n",
       "    }\n",
       "</style>\n",
       "<table border=\"1\" class=\"dataframe\">\n",
       "  <thead>\n",
       "    <tr style=\"text-align: right;\">\n",
       "      <th></th>\n",
       "      <th>count</th>\n",
       "      <th>mean</th>\n",
       "      <th>std</th>\n",
       "      <th>min</th>\n",
       "      <th>25%</th>\n",
       "      <th>50%</th>\n",
       "      <th>75%</th>\n",
       "      <th>max</th>\n",
       "    </tr>\n",
       "  </thead>\n",
       "  <tbody>\n",
       "    <tr>\n",
       "      <th>year</th>\n",
       "      <td>28648.0</td>\n",
       "      <td>2010.271537</td>\n",
       "      <td>4.553145</td>\n",
       "      <td>1994.000000</td>\n",
       "      <td>2008.000000</td>\n",
       "      <td>2011.000000</td>\n",
       "      <td>2014.000000</td>\n",
       "      <td>2016.000000</td>\n",
       "    </tr>\n",
       "    <tr>\n",
       "      <th>ghsl_water_surface</th>\n",
       "      <td>28648.0</td>\n",
       "      <td>0.027018</td>\n",
       "      <td>0.095199</td>\n",
       "      <td>0.000000</td>\n",
       "      <td>0.000000</td>\n",
       "      <td>0.000000</td>\n",
       "      <td>0.000000</td>\n",
       "      <td>0.991100</td>\n",
       "    </tr>\n",
       "    <tr>\n",
       "      <th>ghsl_built_pre_1975</th>\n",
       "      <td>28648.0</td>\n",
       "      <td>0.041010</td>\n",
       "      <td>0.118721</td>\n",
       "      <td>0.000000</td>\n",
       "      <td>0.000000</td>\n",
       "      <td>0.000160</td>\n",
       "      <td>0.008011</td>\n",
       "      <td>0.894608</td>\n",
       "    </tr>\n",
       "    <tr>\n",
       "      <th>ghsl_built_1975_to_1990</th>\n",
       "      <td>28648.0</td>\n",
       "      <td>0.027820</td>\n",
       "      <td>0.072850</td>\n",
       "      <td>0.000000</td>\n",
       "      <td>0.000000</td>\n",
       "      <td>0.000602</td>\n",
       "      <td>0.010037</td>\n",
       "      <td>0.685010</td>\n",
       "    </tr>\n",
       "    <tr>\n",
       "      <th>ghsl_built_1990_to_2000</th>\n",
       "      <td>28648.0</td>\n",
       "      <td>0.013713</td>\n",
       "      <td>0.034208</td>\n",
       "      <td>0.000000</td>\n",
       "      <td>0.000037</td>\n",
       "      <td>0.000936</td>\n",
       "      <td>0.008823</td>\n",
       "      <td>0.515534</td>\n",
       "    </tr>\n",
       "    <tr>\n",
       "      <th>ghsl_built_2000_to_2014</th>\n",
       "      <td>28648.0</td>\n",
       "      <td>0.018369</td>\n",
       "      <td>0.040241</td>\n",
       "      <td>0.000000</td>\n",
       "      <td>0.000109</td>\n",
       "      <td>0.001727</td>\n",
       "      <td>0.015209</td>\n",
       "      <td>0.649159</td>\n",
       "    </tr>\n",
       "    <tr>\n",
       "      <th>ghsl_not_built_up</th>\n",
       "      <td>28648.0</td>\n",
       "      <td>0.872069</td>\n",
       "      <td>0.242707</td>\n",
       "      <td>0.000859</td>\n",
       "      <td>0.895615</td>\n",
       "      <td>0.992725</td>\n",
       "      <td>0.999592</td>\n",
       "      <td>1.000000</td>\n",
       "    </tr>\n",
       "    <tr>\n",
       "      <th>ghsl_pop_density</th>\n",
       "      <td>28648.0</td>\n",
       "      <td>95.101508</td>\n",
       "      <td>210.079701</td>\n",
       "      <td>0.000000</td>\n",
       "      <td>2.943082</td>\n",
       "      <td>16.424158</td>\n",
       "      <td>64.364772</td>\n",
       "      <td>1902.876955</td>\n",
       "    </tr>\n",
       "    <tr>\n",
       "      <th>landcover_crops_fraction</th>\n",
       "      <td>28648.0</td>\n",
       "      <td>21.097237</td>\n",
       "      <td>16.309999</td>\n",
       "      <td>0.000000</td>\n",
       "      <td>6.105505</td>\n",
       "      <td>19.297194</td>\n",
       "      <td>33.199903</td>\n",
       "      <td>80.064918</td>\n",
       "    </tr>\n",
       "    <tr>\n",
       "      <th>landcover_urban_fraction</th>\n",
       "      <td>28648.0</td>\n",
       "      <td>14.079153</td>\n",
       "      <td>23.917510</td>\n",
       "      <td>0.000000</td>\n",
       "      <td>0.705307</td>\n",
       "      <td>2.599028</td>\n",
       "      <td>13.063126</td>\n",
       "      <td>98.784092</td>\n",
       "    </tr>\n",
       "    <tr>\n",
       "      <th>landcover_water_permanent_10km_fraction</th>\n",
       "      <td>28648.0</td>\n",
       "      <td>1.668968</td>\n",
       "      <td>7.152657</td>\n",
       "      <td>0.000000</td>\n",
       "      <td>0.000000</td>\n",
       "      <td>0.000579</td>\n",
       "      <td>0.172243</td>\n",
       "      <td>99.164018</td>\n",
       "    </tr>\n",
       "    <tr>\n",
       "      <th>landcover_water_seasonal_10km_fraction</th>\n",
       "      <td>28648.0</td>\n",
       "      <td>0.694652</td>\n",
       "      <td>2.383790</td>\n",
       "      <td>0.000000</td>\n",
       "      <td>0.001394</td>\n",
       "      <td>0.033941</td>\n",
       "      <td>0.375420</td>\n",
       "      <td>56.201637</td>\n",
       "    </tr>\n",
       "    <tr>\n",
       "      <th>nighttime_lights</th>\n",
       "      <td>28648.0</td>\n",
       "      <td>9.260498</td>\n",
       "      <td>26.160952</td>\n",
       "      <td>0.000000</td>\n",
       "      <td>0.000000</td>\n",
       "      <td>0.024074</td>\n",
       "      <td>4.963472</td>\n",
       "      <td>403.455783</td>\n",
       "    </tr>\n",
       "    <tr>\n",
       "      <th>dist_to_capital</th>\n",
       "      <td>28648.0</td>\n",
       "      <td>300.584775</td>\n",
       "      <td>269.097712</td>\n",
       "      <td>0.105306</td>\n",
       "      <td>110.789483</td>\n",
       "      <td>253.537926</td>\n",
       "      <td>403.780077</td>\n",
       "      <td>1908.105037</td>\n",
       "    </tr>\n",
       "    <tr>\n",
       "      <th>dist_to_shoreline</th>\n",
       "      <td>28648.0</td>\n",
       "      <td>473.801360</td>\n",
       "      <td>355.856845</td>\n",
       "      <td>0.112080</td>\n",
       "      <td>158.829182</td>\n",
       "      <td>420.442368</td>\n",
       "      <td>732.552186</td>\n",
       "      <td>1769.523906</td>\n",
       "    </tr>\n",
       "    <tr>\n",
       "      <th>Target</th>\n",
       "      <td>21454.0</td>\n",
       "      <td>0.350736</td>\n",
       "      <td>0.194376</td>\n",
       "      <td>0.000000</td>\n",
       "      <td>0.195772</td>\n",
       "      <td>0.293574</td>\n",
       "      <td>0.499003</td>\n",
       "      <td>1.000000</td>\n",
       "    </tr>\n",
       "  </tbody>\n",
       "</table>\n",
       "</div>"
      ],
      "text/plain": [
       "                                           count         mean         std  \\\n",
       "year                                     28648.0  2010.271537    4.553145   \n",
       "ghsl_water_surface                       28648.0     0.027018    0.095199   \n",
       "ghsl_built_pre_1975                      28648.0     0.041010    0.118721   \n",
       "ghsl_built_1975_to_1990                  28648.0     0.027820    0.072850   \n",
       "ghsl_built_1990_to_2000                  28648.0     0.013713    0.034208   \n",
       "ghsl_built_2000_to_2014                  28648.0     0.018369    0.040241   \n",
       "ghsl_not_built_up                        28648.0     0.872069    0.242707   \n",
       "ghsl_pop_density                         28648.0    95.101508  210.079701   \n",
       "landcover_crops_fraction                 28648.0    21.097237   16.309999   \n",
       "landcover_urban_fraction                 28648.0    14.079153   23.917510   \n",
       "landcover_water_permanent_10km_fraction  28648.0     1.668968    7.152657   \n",
       "landcover_water_seasonal_10km_fraction   28648.0     0.694652    2.383790   \n",
       "nighttime_lights                         28648.0     9.260498   26.160952   \n",
       "dist_to_capital                          28648.0   300.584775  269.097712   \n",
       "dist_to_shoreline                        28648.0   473.801360  355.856845   \n",
       "Target                                   21454.0     0.350736    0.194376   \n",
       "\n",
       "                                                 min          25%  \\\n",
       "year                                     1994.000000  2008.000000   \n",
       "ghsl_water_surface                          0.000000     0.000000   \n",
       "ghsl_built_pre_1975                         0.000000     0.000000   \n",
       "ghsl_built_1975_to_1990                     0.000000     0.000000   \n",
       "ghsl_built_1990_to_2000                     0.000000     0.000037   \n",
       "ghsl_built_2000_to_2014                     0.000000     0.000109   \n",
       "ghsl_not_built_up                           0.000859     0.895615   \n",
       "ghsl_pop_density                            0.000000     2.943082   \n",
       "landcover_crops_fraction                    0.000000     6.105505   \n",
       "landcover_urban_fraction                    0.000000     0.705307   \n",
       "landcover_water_permanent_10km_fraction     0.000000     0.000000   \n",
       "landcover_water_seasonal_10km_fraction      0.000000     0.001394   \n",
       "nighttime_lights                            0.000000     0.000000   \n",
       "dist_to_capital                             0.105306   110.789483   \n",
       "dist_to_shoreline                           0.112080   158.829182   \n",
       "Target                                      0.000000     0.195772   \n",
       "\n",
       "                                                 50%          75%          max  \n",
       "year                                     2011.000000  2014.000000  2016.000000  \n",
       "ghsl_water_surface                          0.000000     0.000000     0.991100  \n",
       "ghsl_built_pre_1975                         0.000160     0.008011     0.894608  \n",
       "ghsl_built_1975_to_1990                     0.000602     0.010037     0.685010  \n",
       "ghsl_built_1990_to_2000                     0.000936     0.008823     0.515534  \n",
       "ghsl_built_2000_to_2014                     0.001727     0.015209     0.649159  \n",
       "ghsl_not_built_up                           0.992725     0.999592     1.000000  \n",
       "ghsl_pop_density                           16.424158    64.364772  1902.876955  \n",
       "landcover_crops_fraction                   19.297194    33.199903    80.064918  \n",
       "landcover_urban_fraction                    2.599028    13.063126    98.784092  \n",
       "landcover_water_permanent_10km_fraction     0.000579     0.172243    99.164018  \n",
       "landcover_water_seasonal_10km_fraction      0.033941     0.375420    56.201637  \n",
       "nighttime_lights                            0.024074     4.963472   403.455783  \n",
       "dist_to_capital                           253.537926   403.780077  1908.105037  \n",
       "dist_to_shoreline                         420.442368   732.552186  1769.523906  \n",
       "Target                                      0.293574     0.499003     1.000000  "
      ]
     },
     "execution_count": 47,
     "metadata": {},
     "output_type": "execute_result"
    }
   ],
   "source": [
    "data.describe().T"
   ]
  },
  {
   "cell_type": "code",
   "execution_count": 48,
   "id": "9b57f091",
   "metadata": {},
   "outputs": [
    {
     "data": {
      "text/plain": [
       "array([ 12.14613395, 113.80671627,   0.        , ...,  46.12746521,\n",
       "         0.3096956 , 162.18288681])"
      ]
     },
     "execution_count": 48,
     "metadata": {},
     "output_type": "execute_result"
    }
   ],
   "source": [
    "data.ghsl_pop_density.unique()"
   ]
  },
  {
   "cell_type": "code",
   "execution_count": 49,
   "id": "1534cf13",
   "metadata": {},
   "outputs": [
    {
     "data": {
      "text/plain": [
       "array([ 278.78845059,  200.986978  ,  642.59420757, ...,   33.77544136,\n",
       "        320.97415338, 1186.13137289])"
      ]
     },
     "execution_count": 49,
     "metadata": {},
     "output_type": "execute_result"
    }
   ],
   "source": [
    "data.dist_to_capital.unique()"
   ]
  },
  {
   "cell_type": "code",
   "execution_count": 50,
   "id": "b0ca95eb",
   "metadata": {},
   "outputs": [
    {
     "data": {
      "text/plain": [
       "array(['Ethiopia', 'Mozambique', 'Malawi', 'Guinea', 'Cameroon', 'Ghana',\n",
       "       'Senegal', 'Kenya', 'Tanzania', 'Mali', 'Swaziland', 'Rwanda',\n",
       "       'Nigeria', 'Lesotho', 'Sierra Leone', 'Central African Republic',\n",
       "       \"Cote d'Ivoire\", 'Togo', 'Democratic Republic of Congo', 'Uganda',\n",
       "       'Burkina Faso', 'Zambia', 'Angola', 'Zimbabwe', 'Benin'],\n",
       "      dtype=object)"
      ]
     },
     "execution_count": 50,
     "metadata": {},
     "output_type": "execute_result"
    }
   ],
   "source": [
    "data.country.unique()"
   ]
  },
  {
   "cell_type": "code",
   "execution_count": 51,
   "id": "2061be6f",
   "metadata": {},
   "outputs": [
    {
     "data": {
      "text/plain": [
       "array([0.        , 0.00057909, 0.18513989, ..., 0.00268349, 0.00033249,\n",
       "       0.07695039])"
      ]
     },
     "execution_count": 51,
     "metadata": {},
     "output_type": "execute_result"
    }
   ],
   "source": [
    "data.ghsl_water_surface.unique()"
   ]
  },
  {
   "cell_type": "code",
   "execution_count": 52,
   "id": "82c4ba6a",
   "metadata": {},
   "outputs": [
    {
     "data": {
      "text/plain": [
       "array([25.48965903, 64.13605339,  4.40009627, ..., 35.67451095,\n",
       "       18.05078894,  3.91728442])"
      ]
     },
     "execution_count": 52,
     "metadata": {},
     "output_type": "execute_result"
    }
   ],
   "source": [
    "data.landcover_crops_fraction.unique()"
   ]
  },
  {
   "cell_type": "code",
   "execution_count": 53,
   "id": "7d79fe04",
   "metadata": {},
   "outputs": [
    {
     "data": {
      "text/plain": [
       "array(['R', 'U'], dtype=object)"
      ]
     },
     "execution_count": 53,
     "metadata": {},
     "output_type": "execute_result"
    }
   ],
   "source": [
    "data.urban_or_rural.unique()"
   ]
  },
  {
   "cell_type": "code",
   "execution_count": 54,
   "id": "622b30d7",
   "metadata": {},
   "outputs": [
    {
     "data": {
      "text/plain": [
       "R    18674\n",
       "U     9974\n",
       "Name: urban_or_rural, dtype: int64"
      ]
     },
     "execution_count": 54,
     "metadata": {},
     "output_type": "execute_result"
    }
   ],
   "source": [
    "data.urban_or_rural.value_counts()"
   ]
  },
  {
   "cell_type": "code",
   "execution_count": 55,
   "id": "a8dc8ac1",
   "metadata": {},
   "outputs": [
    {
     "data": {
      "text/plain": [
       "array([0.00000000e+00, 1.40510809e-04, 1.16487475e-02, ...,\n",
       "       5.63401235e-05, 2.68349135e-04, 1.28367246e-01])"
      ]
     },
     "execution_count": 55,
     "metadata": {},
     "output_type": "execute_result"
    }
   ],
   "source": [
    "data.ghsl_built_pre_1975.unique()"
   ]
  },
  {
   "cell_type": "code",
   "execution_count": 56,
   "id": "e19cd314",
   "metadata": {},
   "outputs": [
    {
     "data": {
      "text/plain": [
       "array([0.00000000e+00, 1.09829346e-04, 1.81327209e-04, ...,\n",
       "       8.82661935e-04, 2.79981105e-03, 1.66245067e-05])"
      ]
     },
     "execution_count": 56,
     "metadata": {},
     "output_type": "execute_result"
    }
   ],
   "source": [
    "data.ghsl_built_1975_to_1990.unique()"
   ]
  },
  {
   "cell_type": "code",
   "execution_count": 57,
   "id": "7b1281c8",
   "metadata": {},
   "outputs": [
    {
     "data": {
      "text/plain": [
       "array([5.54935857e-05, 0.00000000e+00, 2.54355853e-04, ...,\n",
       "       3.86147105e-03, 9.32199293e-03, 4.17994893e-02])"
      ]
     },
     "execution_count": 57,
     "metadata": {},
     "output_type": "execute_result"
    }
   ],
   "source": [
    "data. ghsl_built_1990_to_2000.unique()"
   ]
  },
  {
   "cell_type": "code",
   "execution_count": 58,
   "id": "38ea86d1",
   "metadata": {},
   "outputs": [
    {
     "data": {
      "text/plain": [
       "array([5.36437995e-04, 1.83048910e-05, 0.00000000e+00, ...,\n",
       "       4.25270589e-02, 9.97470402e-05, 1.39709599e-01])"
      ]
     },
     "execution_count": 58,
     "metadata": {},
     "output_type": "execute_result"
    }
   ],
   "source": [
    "data. ghsl_built_2000_to_2014.unique()"
   ]
  },
  {
   "cell_type": "code",
   "execution_count": 59,
   "id": "fcf1477b",
   "metadata": {},
   "outputs": [
    {
     "data": {
      "text/plain": [
       "array([0.99940807, 0.99987187, 1.        , ..., 0.9423993 , 0.99955114,\n",
       "       0.61317327])"
      ]
     },
     "execution_count": 59,
     "metadata": {},
     "output_type": "execute_result"
    }
   ],
   "source": [
    "data.ghsl_not_built_up.unique()"
   ]
  },
  {
   "cell_type": "code",
   "execution_count": 60,
   "id": "b4814025",
   "metadata": {},
   "outputs": [
    {
     "data": {
      "text/plain": [
       "array([8.79484345e-01, 6.01427231e-01, 1.31900113e-01, ...,\n",
       "       1.27055612e+01, 3.05140710e-02, 3.65284529e+01])"
      ]
     },
     "execution_count": 60,
     "metadata": {},
     "output_type": "execute_result"
    }
   ],
   "source": [
    "data.landcover_urban_fraction.unique()"
   ]
  },
  {
   "cell_type": "code",
   "execution_count": 61,
   "id": "c8b72f7c",
   "metadata": {},
   "outputs": [
    {
     "data": {
      "text/plain": [
       "array([0.00000000e+00, 1.12938411e+01, 5.04740603e-03, ...,\n",
       "       1.12942594e-03, 3.31766741e-02, 4.49944565e+00])"
      ]
     },
     "execution_count": 61,
     "metadata": {},
     "output_type": "execute_result"
    }
   ],
   "source": [
    "data.landcover_water_permanent_10km_fraction.unique()"
   ]
  },
  {
   "cell_type": "code",
   "execution_count": 62,
   "id": "7fe2d60f",
   "metadata": {},
   "outputs": [
    {
     "data": {
      "text/plain": [
       "array([0.        , 0.00542664, 0.00307795, ..., 0.72325189, 0.22262878,\n",
       "       0.6475056 ])"
      ]
     },
     "execution_count": 62,
     "metadata": {},
     "output_type": "execute_result"
    }
   ],
   "source": [
    "data.landcover_water_seasonal_10km_fraction.unique()"
   ]
  },
  {
   "cell_type": "code",
   "execution_count": 63,
   "id": "d1504e7a",
   "metadata": {},
   "outputs": [
    {
     "data": {
      "text/plain": [
       "array([ 0.        ,  1.46189384, 22.98197021, ...,  4.73497367,\n",
       "        0.1751227 ,  4.22469873])"
      ]
     },
     "execution_count": 63,
     "metadata": {},
     "output_type": "execute_result"
    }
   ],
   "source": [
    "data.nighttime_lights.unique()"
   ]
  },
  {
   "cell_type": "code",
   "execution_count": 64,
   "id": "aae50123",
   "metadata": {},
   "outputs": [
    {
     "data": {
      "text/plain": [
       "array([ 769.33837804,  337.13524335,  169.91377329, ...,  781.83377668,\n",
       "        605.92020425, 1456.10105823])"
      ]
     },
     "execution_count": 64,
     "metadata": {},
     "output_type": "execute_result"
    }
   ],
   "source": [
    "data.dist_to_shoreline.unique()"
   ]
  },
  {
   "cell_type": "code",
   "execution_count": 65,
   "id": "5fc3497e",
   "metadata": {},
   "outputs": [
    {
     "data": {
      "text/plain": [
       "array([0.13278266, 0.00489837, 0.09731954, ..., 0.23783108, 0.16507109,\n",
       "              nan])"
      ]
     },
     "execution_count": 65,
     "metadata": {},
     "output_type": "execute_result"
    }
   ],
   "source": [
    "data.Target.unique()"
   ]
  },
  {
   "cell_type": "code",
   "execution_count": 66,
   "id": "73d6f6b8",
   "metadata": {},
   "outputs": [
    {
     "data": {
      "text/plain": [
       "0.000000    1\n",
       "0.690350    1\n",
       "0.356732    1\n",
       "0.403303    1\n",
       "0.244123    1\n",
       "           ..\n",
       "0.286381    1\n",
       "0.660463    1\n",
       "0.543110    1\n",
       "0.193999    1\n",
       "0.579648    1\n",
       "Name: Target, Length: 21454, dtype: int64"
      ]
     },
     "execution_count": 66,
     "metadata": {},
     "output_type": "execute_result"
    }
   ],
   "source": [
    "data.Target.value_counts()"
   ]
  },
  {
   "cell_type": "code",
   "execution_count": 67,
   "id": "4cd1b17d",
   "metadata": {},
   "outputs": [
    {
     "data": {
      "text/plain": [
       "ID                                            0\n",
       "country                                       0\n",
       "year                                          0\n",
       "urban_or_rural                                0\n",
       "ghsl_water_surface                            0\n",
       "ghsl_built_pre_1975                           0\n",
       "ghsl_built_1975_to_1990                       0\n",
       "ghsl_built_1990_to_2000                       0\n",
       "ghsl_built_2000_to_2014                       0\n",
       "ghsl_not_built_up                             0\n",
       "ghsl_pop_density                              0\n",
       "landcover_crops_fraction                      0\n",
       "landcover_urban_fraction                      0\n",
       "landcover_water_permanent_10km_fraction       0\n",
       "landcover_water_seasonal_10km_fraction        0\n",
       "nighttime_lights                              0\n",
       "dist_to_capital                               0\n",
       "dist_to_shoreline                             0\n",
       "Target                                     7194\n",
       "dtype: int64"
      ]
     },
     "execution_count": 67,
     "metadata": {},
     "output_type": "execute_result"
    }
   ],
   "source": [
    "data.isnull().sum()"
   ]
  },
  {
   "cell_type": "code",
   "execution_count": 68,
   "id": "881fad3e",
   "metadata": {},
   "outputs": [],
   "source": [
    "## cotegorical variable conversion\n",
    "#import preprocessing module \n",
    "from sklearn.preprocessing import LabelEncoder\n",
    "le = LabelEncoder()\n",
    "data['urban_or_rural'] = le.fit_transform(data['urban_or_rural'])\n",
    "data['country'] = le.fit_transform(data['country'])"
   ]
  },
  {
   "cell_type": "code",
   "execution_count": 69,
   "id": "eea6c9ed",
   "metadata": {},
   "outputs": [],
   "source": [
    "## convert float dtypes to int\n",
    "data[\"year\"] = data['year'].astype('float')\n",
    "data[\"urban_or_rural\"] = data['urban_or_rural'].astype('float')\n",
    "data[\"country\"] = data['country'].astype('float')"
   ]
  },
  {
   "cell_type": "code",
   "execution_count": 70,
   "id": "4c0e92b7",
   "metadata": {},
   "outputs": [
    {
     "name": "stdout",
     "output_type": "stream",
     "text": [
      "<class 'pandas.core.frame.DataFrame'>\n",
      "RangeIndex: 28648 entries, 0 to 28647\n",
      "Data columns (total 19 columns):\n",
      " #   Column                                   Non-Null Count  Dtype  \n",
      "---  ------                                   --------------  -----  \n",
      " 0   ID                                       28648 non-null  object \n",
      " 1   country                                  28648 non-null  float64\n",
      " 2   year                                     28648 non-null  float64\n",
      " 3   urban_or_rural                           28648 non-null  float64\n",
      " 4   ghsl_water_surface                       28648 non-null  float64\n",
      " 5   ghsl_built_pre_1975                      28648 non-null  float64\n",
      " 6   ghsl_built_1975_to_1990                  28648 non-null  float64\n",
      " 7   ghsl_built_1990_to_2000                  28648 non-null  float64\n",
      " 8   ghsl_built_2000_to_2014                  28648 non-null  float64\n",
      " 9   ghsl_not_built_up                        28648 non-null  float64\n",
      " 10  ghsl_pop_density                         28648 non-null  float64\n",
      " 11  landcover_crops_fraction                 28648 non-null  float64\n",
      " 12  landcover_urban_fraction                 28648 non-null  float64\n",
      " 13  landcover_water_permanent_10km_fraction  28648 non-null  float64\n",
      " 14  landcover_water_seasonal_10km_fraction   28648 non-null  float64\n",
      " 15  nighttime_lights                         28648 non-null  float64\n",
      " 16  dist_to_capital                          28648 non-null  float64\n",
      " 17  dist_to_shoreline                        28648 non-null  float64\n",
      " 18  Target                                   21454 non-null  float64\n",
      "dtypes: float64(18), object(1)\n",
      "memory usage: 4.2+ MB\n"
     ]
    }
   ],
   "source": [
    "data.info()"
   ]
  },
  {
   "cell_type": "code",
   "execution_count": 71,
   "id": "c5695097",
   "metadata": {},
   "outputs": [],
   "source": [
    "## separating data into train and test\n",
    "\n",
    "train=data[data.Target.notnull()].reset_index(drop=True)\n",
    "test=data[data.Target.isna()].reset_index(drop=True)"
   ]
  },
  {
   "cell_type": "code",
   "execution_count": 72,
   "id": "67a4ded4",
   "metadata": {},
   "outputs": [
    {
     "data": {
      "text/plain": [
       "((21454, 19), (7194, 19))"
      ]
     },
     "execution_count": 72,
     "metadata": {},
     "output_type": "execute_result"
    }
   ],
   "source": [
    "train.shape , test.shape"
   ]
  },
  {
   "cell_type": "markdown",
   "id": "8731a931",
   "metadata": {},
   "source": [
    "### FEATURE SELECTION"
   ]
  },
  {
   "cell_type": "code",
   "execution_count": 73,
   "id": "c37e8157",
   "metadata": {},
   "outputs": [],
   "source": [
    "feat_cols = train.drop([\"ID\",\"Target\"],1)\n",
    "cols = feat_cols.columns\n",
    "target=train[\"Target\"]"
   ]
  },
  {
   "cell_type": "code",
   "execution_count": 74,
   "id": "3a2f790d",
   "metadata": {},
   "outputs": [
    {
     "data": {
      "text/plain": [
       "((21454, 17), (21454,))"
      ]
     },
     "execution_count": 74,
     "metadata": {},
     "output_type": "execute_result"
    }
   ],
   "source": [
    "train[cols].shape , target.shape"
   ]
  },
  {
   "cell_type": "markdown",
   "id": "195383c5",
   "metadata": {},
   "source": [
    "### MODELLING"
   ]
  },
  {
   "cell_type": "code",
   "execution_count": 75,
   "id": "67b201b2",
   "metadata": {},
   "outputs": [],
   "source": [
    "from sklearn.model_selection import train_test_split\n",
    "from sklearn.model_selection import KFold, cross_val_score,\n",
    "from sklearn.metrics import log_loss, accuracy_score"
   ]
  },
  {
   "cell_type": "code",
   "execution_count": 76,
   "id": "4e12b7fa",
   "metadata": {},
   "outputs": [
    {
     "name": "stdout",
     "output_type": "stream",
     "text": [
      "(17163, 17) (17163,)\n",
      "(4291, 17) (4291,)\n"
     ]
    }
   ],
   "source": [
    "# create training and testing vars\n",
    "X_train, X_test, y_train, y_test = train_test_split(train[cols],target, test_size=0.20, random_state = 2021)\n",
    "print (X_train.shape, y_train.shape)\n",
    "print (X_test.shape, y_test.shape)"
   ]
  },
  {
   "cell_type": "markdown",
   "id": "4d1f3460",
   "metadata": {},
   "source": [
    "#### EXTREME GRADIENT BOOST"
   ]
  },
  {
   "cell_type": "code",
   "execution_count": 77,
   "id": "d0ebf327",
   "metadata": {},
   "outputs": [],
   "source": [
    "from xgboost import XGBRegressor"
   ]
  },
  {
   "cell_type": "code",
   "execution_count": 87,
   "id": "f69b5872",
   "metadata": {},
   "outputs": [
    {
     "name": "stdout",
     "output_type": "stream",
     "text": [
      "[12:44:49] WARNING: ../src/objective/regression_obj.cu:171: reg:linear is now deprecated in favor of reg:squarederror.\n",
      "Using scikit-lean, the error is 0.07774138612532006\n"
     ]
    }
   ],
   "source": [
    "#instatiate the model\n",
    "xgb=XGBRegressor(objective ='reg:linear', n_estimators= 100, colsample_bynode = 0.8, learning_rate = 0.02,max_depth =  7)\n",
    "xgb.fit(X_train, y_train)\n",
    "y_pred = xgb.predict(X_test)\n",
    "\n",
    "#Evaluation\n",
    "from sklearn.metrics import mean_absolute_error\n",
    "mae = mean_absolute_error(y_test, y_pred)\n",
    "print('Using scikit-lean, the error is {}'.format(mae))"
   ]
  },
  {
   "cell_type": "code",
   "execution_count": 88,
   "id": "0ad287d0",
   "metadata": {},
   "outputs": [],
   "source": [
    "#Prediction\n",
    "pred = test[cols]\n",
    "predictions_xgb  = xgb.predict(pred)"
   ]
  },
  {
   "cell_type": "code",
   "execution_count": 91,
   "id": "11cea65a",
   "metadata": {},
   "outputs": [
    {
     "name": "stdout",
     "output_type": "stream",
     "text": [
      "Saved file: x2_sub.csv\n"
     ]
    }
   ],
   "source": [
    "#Formating submission\n",
    "sub = pd.DataFrame({'ID': test.ID, 'Target': predictions_xgb}) # Creating a submission file\n",
    "filename = 'x2_sub.csv'\n",
    "\n",
    "sub.to_csv(filename,index=False)\n",
    "\n",
    "print('Saved file: ' + filename)"
   ]
  },
  {
   "cell_type": "code",
   "execution_count": 92,
   "id": "7f86d7ce",
   "metadata": {},
   "outputs": [
    {
     "data": {
      "text/html": [
       "<div>\n",
       "<style scoped>\n",
       "    .dataframe tbody tr th:only-of-type {\n",
       "        vertical-align: middle;\n",
       "    }\n",
       "\n",
       "    .dataframe tbody tr th {\n",
       "        vertical-align: top;\n",
       "    }\n",
       "\n",
       "    .dataframe thead th {\n",
       "        text-align: right;\n",
       "    }\n",
       "</style>\n",
       "<table border=\"1\" class=\"dataframe\">\n",
       "  <thead>\n",
       "    <tr style=\"text-align: right;\">\n",
       "      <th></th>\n",
       "      <th>ID</th>\n",
       "      <th>Target</th>\n",
       "    </tr>\n",
       "  </thead>\n",
       "  <tbody>\n",
       "    <tr>\n",
       "      <th>0</th>\n",
       "      <td>ID_AAcismbB</td>\n",
       "      <td>0.150817</td>\n",
       "    </tr>\n",
       "    <tr>\n",
       "      <th>1</th>\n",
       "      <td>ID_AAeBMsji</td>\n",
       "      <td>0.229445</td>\n",
       "    </tr>\n",
       "    <tr>\n",
       "      <th>2</th>\n",
       "      <td>ID_AAjFMjzy</td>\n",
       "      <td>0.629641</td>\n",
       "    </tr>\n",
       "    <tr>\n",
       "      <th>3</th>\n",
       "      <td>ID_AAmMOEEC</td>\n",
       "      <td>0.404312</td>\n",
       "    </tr>\n",
       "    <tr>\n",
       "      <th>4</th>\n",
       "      <td>ID_ABguzDxp</td>\n",
       "      <td>0.289857</td>\n",
       "    </tr>\n",
       "    <tr>\n",
       "      <th>...</th>\n",
       "      <td>...</td>\n",
       "      <td>...</td>\n",
       "    </tr>\n",
       "    <tr>\n",
       "      <th>7189</th>\n",
       "      <td>ID_zxzKJCMI</td>\n",
       "      <td>0.235030</td>\n",
       "    </tr>\n",
       "    <tr>\n",
       "      <th>7190</th>\n",
       "      <td>ID_zyBrpgRp</td>\n",
       "      <td>0.345419</td>\n",
       "    </tr>\n",
       "    <tr>\n",
       "      <th>7191</th>\n",
       "      <td>ID_zyMafcYq</td>\n",
       "      <td>0.453954</td>\n",
       "    </tr>\n",
       "    <tr>\n",
       "      <th>7192</th>\n",
       "      <td>ID_zyfMsHMG</td>\n",
       "      <td>0.253141</td>\n",
       "    </tr>\n",
       "    <tr>\n",
       "      <th>7193</th>\n",
       "      <td>ID_zytUOqJv</td>\n",
       "      <td>0.421662</td>\n",
       "    </tr>\n",
       "  </tbody>\n",
       "</table>\n",
       "<p>7194 rows × 2 columns</p>\n",
       "</div>"
      ],
      "text/plain": [
       "               ID    Target\n",
       "0     ID_AAcismbB  0.150817\n",
       "1     ID_AAeBMsji  0.229445\n",
       "2     ID_AAjFMjzy  0.629641\n",
       "3     ID_AAmMOEEC  0.404312\n",
       "4     ID_ABguzDxp  0.289857\n",
       "...           ...       ...\n",
       "7189  ID_zxzKJCMI  0.235030\n",
       "7190  ID_zyBrpgRp  0.345419\n",
       "7191  ID_zyMafcYq  0.453954\n",
       "7192  ID_zyfMsHMG  0.253141\n",
       "7193  ID_zytUOqJv  0.421662\n",
       "\n",
       "[7194 rows x 2 columns]"
      ]
     },
     "execution_count": 92,
     "metadata": {},
     "output_type": "execute_result"
    }
   ],
   "source": [
    "sub"
   ]
  },
  {
   "cell_type": "code",
   "execution_count": 101,
   "id": "9c8b5523",
   "metadata": {},
   "outputs": [
    {
     "data": {
      "text/plain": [
       "False"
      ]
     },
     "execution_count": 101,
     "metadata": {},
     "output_type": "execute_result"
    }
   ],
   "source": [
    "data.duplicated().any()"
   ]
  },
  {
   "cell_type": "code",
   "execution_count": null,
   "id": "28e64c28",
   "metadata": {},
   "outputs": [],
   "source": []
  }
 ],
 "metadata": {
  "kernelspec": {
   "display_name": "Python 3",
   "language": "python",
   "name": "python3"
  },
  "language_info": {
   "codemirror_mode": {
    "name": "ipython",
    "version": 3
   },
   "file_extension": ".py",
   "mimetype": "text/x-python",
   "name": "python",
   "nbconvert_exporter": "python",
   "pygments_lexer": "ipython3",
   "version": "3.8.8"
  }
 },
 "nbformat": 4,
 "nbformat_minor": 5
}
