{
 "cells": [
  {
   "cell_type": "code",
   "execution_count": 1,
   "id": "9578a665",
   "metadata": {},
   "outputs": [
    {
     "name": "stdout",
     "output_type": "stream",
     "text": [
      "Imported featurewiz: advanced feature engg and selection library. Version=0.0.42\n",
      "output = featurewiz(dataname, target, corr_limit=0.70,\n",
      "                    verbose=2, sep=',', header=0, test_data='',\n",
      "                    feature_engg='', category_encoders='')\n",
      "Create new features via 'feature_engg' flag : ['interactions','groupby','target']\n",
      "                                \n"
     ]
    }
   ],
   "source": [
    "# import packages \n",
    "import pandas as pd \n",
    "import numpy as np \n",
    "import seaborn as sns\n",
    "from sklearn.model_selection import train_test_split\n",
    "from sklearn.preprocessing import StandardScaler \n",
    "from sklearn.ensemble import RandomForestRegressor \n",
    "from sklearn.linear_model import LogisticRegression\n",
    "from sklearn.metrics import mean_absolute_error\n",
    "from featurewiz import featurewiz\n",
    "import seaborn as sns\n",
    "import warnings\n",
    "warnings.simplefilter(\"ignore\")\n",
    "np.random.seed(1234)"
   ]
  },
  {
   "cell_type": "code",
   "execution_count": 2,
   "id": "c08d5730",
   "metadata": {},
   "outputs": [],
   "source": [
    "train = pd.read_csv(\"Train.csv\")\n",
    "test = pd.read_csv(\"Test.csv\")\n",
    "submission = pd.read_csv(\"SampleSubmission.csv\")"
   ]
  },
  {
   "cell_type": "code",
   "execution_count": 3,
   "id": "b0bf561f",
   "metadata": {},
   "outputs": [],
   "source": [
    "data = pd.concat([train,test],sort=False).reset_index(drop=True)"
   ]
  },
  {
   "cell_type": "code",
   "execution_count": 4,
   "id": "5c545fa2",
   "metadata": {},
   "outputs": [
    {
     "data": {
      "text/plain": [
       "(28648, 19)"
      ]
     },
     "execution_count": 4,
     "metadata": {},
     "output_type": "execute_result"
    }
   ],
   "source": [
    "data.shape"
   ]
  },
  {
   "cell_type": "code",
   "execution_count": 5,
   "id": "3734efe0",
   "metadata": {},
   "outputs": [
    {
     "name": "stdout",
     "output_type": "stream",
     "text": [
      "<class 'pandas.core.frame.DataFrame'>\n",
      "RangeIndex: 28648 entries, 0 to 28647\n",
      "Data columns (total 19 columns):\n",
      " #   Column                                   Non-Null Count  Dtype  \n",
      "---  ------                                   --------------  -----  \n",
      " 0   ID                                       28648 non-null  object \n",
      " 1   country                                  28648 non-null  object \n",
      " 2   year                                     28648 non-null  int64  \n",
      " 3   urban_or_rural                           28648 non-null  object \n",
      " 4   ghsl_water_surface                       28648 non-null  float64\n",
      " 5   ghsl_built_pre_1975                      28648 non-null  float64\n",
      " 6   ghsl_built_1975_to_1990                  28648 non-null  float64\n",
      " 7   ghsl_built_1990_to_2000                  28648 non-null  float64\n",
      " 8   ghsl_built_2000_to_2014                  28648 non-null  float64\n",
      " 9   ghsl_not_built_up                        28648 non-null  float64\n",
      " 10  ghsl_pop_density                         28648 non-null  float64\n",
      " 11  landcover_crops_fraction                 28648 non-null  float64\n",
      " 12  landcover_urban_fraction                 28648 non-null  float64\n",
      " 13  landcover_water_permanent_10km_fraction  28648 non-null  float64\n",
      " 14  landcover_water_seasonal_10km_fraction   28648 non-null  float64\n",
      " 15  nighttime_lights                         28648 non-null  float64\n",
      " 16  dist_to_capital                          28648 non-null  float64\n",
      " 17  dist_to_shoreline                        28648 non-null  float64\n",
      " 18  Target                                   21454 non-null  float64\n",
      "dtypes: float64(15), int64(1), object(3)\n",
      "memory usage: 4.2+ MB\n"
     ]
    }
   ],
   "source": [
    "data.info()"
   ]
  },
  {
   "cell_type": "code",
   "execution_count": 6,
   "id": "cf9d0066",
   "metadata": {
    "scrolled": true
   },
   "outputs": [
    {
     "data": {
      "text/html": [
       "<div>\n",
       "<style scoped>\n",
       "    .dataframe tbody tr th:only-of-type {\n",
       "        vertical-align: middle;\n",
       "    }\n",
       "\n",
       "    .dataframe tbody tr th {\n",
       "        vertical-align: top;\n",
       "    }\n",
       "\n",
       "    .dataframe thead th {\n",
       "        text-align: right;\n",
       "    }\n",
       "</style>\n",
       "<table border=\"1\" class=\"dataframe\">\n",
       "  <thead>\n",
       "    <tr style=\"text-align: right;\">\n",
       "      <th></th>\n",
       "      <th>count</th>\n",
       "      <th>mean</th>\n",
       "      <th>std</th>\n",
       "      <th>min</th>\n",
       "      <th>25%</th>\n",
       "      <th>50%</th>\n",
       "      <th>75%</th>\n",
       "      <th>max</th>\n",
       "    </tr>\n",
       "  </thead>\n",
       "  <tbody>\n",
       "    <tr>\n",
       "      <th>year</th>\n",
       "      <td>28648.0</td>\n",
       "      <td>2010.271537</td>\n",
       "      <td>4.553145</td>\n",
       "      <td>1994.000000</td>\n",
       "      <td>2008.000000</td>\n",
       "      <td>2011.000000</td>\n",
       "      <td>2014.000000</td>\n",
       "      <td>2016.000000</td>\n",
       "    </tr>\n",
       "    <tr>\n",
       "      <th>ghsl_water_surface</th>\n",
       "      <td>28648.0</td>\n",
       "      <td>0.027018</td>\n",
       "      <td>0.095199</td>\n",
       "      <td>0.000000</td>\n",
       "      <td>0.000000</td>\n",
       "      <td>0.000000</td>\n",
       "      <td>0.000000</td>\n",
       "      <td>0.991100</td>\n",
       "    </tr>\n",
       "    <tr>\n",
       "      <th>ghsl_built_pre_1975</th>\n",
       "      <td>28648.0</td>\n",
       "      <td>0.041010</td>\n",
       "      <td>0.118721</td>\n",
       "      <td>0.000000</td>\n",
       "      <td>0.000000</td>\n",
       "      <td>0.000160</td>\n",
       "      <td>0.008011</td>\n",
       "      <td>0.894608</td>\n",
       "    </tr>\n",
       "    <tr>\n",
       "      <th>ghsl_built_1975_to_1990</th>\n",
       "      <td>28648.0</td>\n",
       "      <td>0.027820</td>\n",
       "      <td>0.072850</td>\n",
       "      <td>0.000000</td>\n",
       "      <td>0.000000</td>\n",
       "      <td>0.000602</td>\n",
       "      <td>0.010037</td>\n",
       "      <td>0.685010</td>\n",
       "    </tr>\n",
       "    <tr>\n",
       "      <th>ghsl_built_1990_to_2000</th>\n",
       "      <td>28648.0</td>\n",
       "      <td>0.013713</td>\n",
       "      <td>0.034208</td>\n",
       "      <td>0.000000</td>\n",
       "      <td>0.000037</td>\n",
       "      <td>0.000936</td>\n",
       "      <td>0.008823</td>\n",
       "      <td>0.515534</td>\n",
       "    </tr>\n",
       "    <tr>\n",
       "      <th>ghsl_built_2000_to_2014</th>\n",
       "      <td>28648.0</td>\n",
       "      <td>0.018369</td>\n",
       "      <td>0.040241</td>\n",
       "      <td>0.000000</td>\n",
       "      <td>0.000109</td>\n",
       "      <td>0.001727</td>\n",
       "      <td>0.015209</td>\n",
       "      <td>0.649159</td>\n",
       "    </tr>\n",
       "    <tr>\n",
       "      <th>ghsl_not_built_up</th>\n",
       "      <td>28648.0</td>\n",
       "      <td>0.872069</td>\n",
       "      <td>0.242707</td>\n",
       "      <td>0.000859</td>\n",
       "      <td>0.895615</td>\n",
       "      <td>0.992725</td>\n",
       "      <td>0.999592</td>\n",
       "      <td>1.000000</td>\n",
       "    </tr>\n",
       "    <tr>\n",
       "      <th>ghsl_pop_density</th>\n",
       "      <td>28648.0</td>\n",
       "      <td>95.101508</td>\n",
       "      <td>210.079701</td>\n",
       "      <td>0.000000</td>\n",
       "      <td>2.943082</td>\n",
       "      <td>16.424158</td>\n",
       "      <td>64.364772</td>\n",
       "      <td>1902.876955</td>\n",
       "    </tr>\n",
       "    <tr>\n",
       "      <th>landcover_crops_fraction</th>\n",
       "      <td>28648.0</td>\n",
       "      <td>21.097237</td>\n",
       "      <td>16.309999</td>\n",
       "      <td>0.000000</td>\n",
       "      <td>6.105505</td>\n",
       "      <td>19.297194</td>\n",
       "      <td>33.199903</td>\n",
       "      <td>80.064918</td>\n",
       "    </tr>\n",
       "    <tr>\n",
       "      <th>landcover_urban_fraction</th>\n",
       "      <td>28648.0</td>\n",
       "      <td>14.079153</td>\n",
       "      <td>23.917510</td>\n",
       "      <td>0.000000</td>\n",
       "      <td>0.705307</td>\n",
       "      <td>2.599028</td>\n",
       "      <td>13.063126</td>\n",
       "      <td>98.784092</td>\n",
       "    </tr>\n",
       "    <tr>\n",
       "      <th>landcover_water_permanent_10km_fraction</th>\n",
       "      <td>28648.0</td>\n",
       "      <td>1.668968</td>\n",
       "      <td>7.152657</td>\n",
       "      <td>0.000000</td>\n",
       "      <td>0.000000</td>\n",
       "      <td>0.000579</td>\n",
       "      <td>0.172243</td>\n",
       "      <td>99.164018</td>\n",
       "    </tr>\n",
       "    <tr>\n",
       "      <th>landcover_water_seasonal_10km_fraction</th>\n",
       "      <td>28648.0</td>\n",
       "      <td>0.694652</td>\n",
       "      <td>2.383790</td>\n",
       "      <td>0.000000</td>\n",
       "      <td>0.001394</td>\n",
       "      <td>0.033941</td>\n",
       "      <td>0.375420</td>\n",
       "      <td>56.201637</td>\n",
       "    </tr>\n",
       "    <tr>\n",
       "      <th>nighttime_lights</th>\n",
       "      <td>28648.0</td>\n",
       "      <td>9.260498</td>\n",
       "      <td>26.160952</td>\n",
       "      <td>0.000000</td>\n",
       "      <td>0.000000</td>\n",
       "      <td>0.024074</td>\n",
       "      <td>4.963472</td>\n",
       "      <td>403.455783</td>\n",
       "    </tr>\n",
       "    <tr>\n",
       "      <th>dist_to_capital</th>\n",
       "      <td>28648.0</td>\n",
       "      <td>300.584775</td>\n",
       "      <td>269.097712</td>\n",
       "      <td>0.105306</td>\n",
       "      <td>110.789483</td>\n",
       "      <td>253.537926</td>\n",
       "      <td>403.780077</td>\n",
       "      <td>1908.105037</td>\n",
       "    </tr>\n",
       "    <tr>\n",
       "      <th>dist_to_shoreline</th>\n",
       "      <td>28648.0</td>\n",
       "      <td>473.801360</td>\n",
       "      <td>355.856845</td>\n",
       "      <td>0.112080</td>\n",
       "      <td>158.829182</td>\n",
       "      <td>420.442368</td>\n",
       "      <td>732.552186</td>\n",
       "      <td>1769.523906</td>\n",
       "    </tr>\n",
       "    <tr>\n",
       "      <th>Target</th>\n",
       "      <td>21454.0</td>\n",
       "      <td>0.350736</td>\n",
       "      <td>0.194376</td>\n",
       "      <td>0.000000</td>\n",
       "      <td>0.195772</td>\n",
       "      <td>0.293574</td>\n",
       "      <td>0.499003</td>\n",
       "      <td>1.000000</td>\n",
       "    </tr>\n",
       "  </tbody>\n",
       "</table>\n",
       "</div>"
      ],
      "text/plain": [
       "                                           count         mean         std  \\\n",
       "year                                     28648.0  2010.271537    4.553145   \n",
       "ghsl_water_surface                       28648.0     0.027018    0.095199   \n",
       "ghsl_built_pre_1975                      28648.0     0.041010    0.118721   \n",
       "ghsl_built_1975_to_1990                  28648.0     0.027820    0.072850   \n",
       "ghsl_built_1990_to_2000                  28648.0     0.013713    0.034208   \n",
       "ghsl_built_2000_to_2014                  28648.0     0.018369    0.040241   \n",
       "ghsl_not_built_up                        28648.0     0.872069    0.242707   \n",
       "ghsl_pop_density                         28648.0    95.101508  210.079701   \n",
       "landcover_crops_fraction                 28648.0    21.097237   16.309999   \n",
       "landcover_urban_fraction                 28648.0    14.079153   23.917510   \n",
       "landcover_water_permanent_10km_fraction  28648.0     1.668968    7.152657   \n",
       "landcover_water_seasonal_10km_fraction   28648.0     0.694652    2.383790   \n",
       "nighttime_lights                         28648.0     9.260498   26.160952   \n",
       "dist_to_capital                          28648.0   300.584775  269.097712   \n",
       "dist_to_shoreline                        28648.0   473.801360  355.856845   \n",
       "Target                                   21454.0     0.350736    0.194376   \n",
       "\n",
       "                                                 min          25%  \\\n",
       "year                                     1994.000000  2008.000000   \n",
       "ghsl_water_surface                          0.000000     0.000000   \n",
       "ghsl_built_pre_1975                         0.000000     0.000000   \n",
       "ghsl_built_1975_to_1990                     0.000000     0.000000   \n",
       "ghsl_built_1990_to_2000                     0.000000     0.000037   \n",
       "ghsl_built_2000_to_2014                     0.000000     0.000109   \n",
       "ghsl_not_built_up                           0.000859     0.895615   \n",
       "ghsl_pop_density                            0.000000     2.943082   \n",
       "landcover_crops_fraction                    0.000000     6.105505   \n",
       "landcover_urban_fraction                    0.000000     0.705307   \n",
       "landcover_water_permanent_10km_fraction     0.000000     0.000000   \n",
       "landcover_water_seasonal_10km_fraction      0.000000     0.001394   \n",
       "nighttime_lights                            0.000000     0.000000   \n",
       "dist_to_capital                             0.105306   110.789483   \n",
       "dist_to_shoreline                           0.112080   158.829182   \n",
       "Target                                      0.000000     0.195772   \n",
       "\n",
       "                                                 50%          75%          max  \n",
       "year                                     2011.000000  2014.000000  2016.000000  \n",
       "ghsl_water_surface                          0.000000     0.000000     0.991100  \n",
       "ghsl_built_pre_1975                         0.000160     0.008011     0.894608  \n",
       "ghsl_built_1975_to_1990                     0.000602     0.010037     0.685010  \n",
       "ghsl_built_1990_to_2000                     0.000936     0.008823     0.515534  \n",
       "ghsl_built_2000_to_2014                     0.001727     0.015209     0.649159  \n",
       "ghsl_not_built_up                           0.992725     0.999592     1.000000  \n",
       "ghsl_pop_density                           16.424158    64.364772  1902.876955  \n",
       "landcover_crops_fraction                   19.297194    33.199903    80.064918  \n",
       "landcover_urban_fraction                    2.599028    13.063126    98.784092  \n",
       "landcover_water_permanent_10km_fraction     0.000579     0.172243    99.164018  \n",
       "landcover_water_seasonal_10km_fraction      0.033941     0.375420    56.201637  \n",
       "nighttime_lights                            0.024074     4.963472   403.455783  \n",
       "dist_to_capital                           253.537926   403.780077  1908.105037  \n",
       "dist_to_shoreline                         420.442368   732.552186  1769.523906  \n",
       "Target                                      0.293574     0.499003     1.000000  "
      ]
     },
     "execution_count": 6,
     "metadata": {},
     "output_type": "execute_result"
    }
   ],
   "source": [
    "data.describe().T"
   ]
  },
  {
   "cell_type": "code",
   "execution_count": 7,
   "id": "cf6860df",
   "metadata": {},
   "outputs": [
    {
     "data": {
      "text/plain": [
       "0        False\n",
       "1        False\n",
       "2        False\n",
       "3        False\n",
       "4        False\n",
       "         ...  \n",
       "28643     True\n",
       "28644     True\n",
       "28645     True\n",
       "28646     True\n",
       "28647     True\n",
       "Length: 28648, dtype: bool"
      ]
     },
     "execution_count": 7,
     "metadata": {},
     "output_type": "execute_result"
    }
   ],
   "source": [
    "data.isnull().any(axis=1)"
   ]
  },
  {
   "cell_type": "code",
   "execution_count": 8,
   "id": "152a4ade",
   "metadata": {},
   "outputs": [],
   "source": [
    "data.fillna(method=\"ffill\", limit=1, inplace=True)"
   ]
  },
  {
   "cell_type": "code",
   "execution_count": 9,
   "id": "7bb730fa",
   "metadata": {},
   "outputs": [
    {
     "data": {
      "text/plain": [
       "0        False\n",
       "1        False\n",
       "2        False\n",
       "3        False\n",
       "4        False\n",
       "         ...  \n",
       "28643     True\n",
       "28644     True\n",
       "28645     True\n",
       "28646     True\n",
       "28647     True\n",
       "Length: 28648, dtype: bool"
      ]
     },
     "execution_count": 9,
     "metadata": {},
     "output_type": "execute_result"
    }
   ],
   "source": [
    "data.isnull().any(axis=1)"
   ]
  },
  {
   "cell_type": "code",
   "execution_count": 10,
   "id": "fddda233",
   "metadata": {},
   "outputs": [],
   "source": [
    "#import preprocessing module \n",
    "\n",
    "from sklearn.preprocessing import LabelEncoder\n",
    "\n",
    "le = LabelEncoder()\n",
    "data['urban_or_rural'] = le.fit_transform(data['urban_or_rural'])\n",
    "data['country'] = le.fit_transform(data['country'])"
   ]
  },
  {
   "cell_type": "code",
   "execution_count": 11,
   "id": "ef993926",
   "metadata": {},
   "outputs": [],
   "source": [
    "# convert float dtypes to int\n",
    "data[\"ghsl_water_surface\"] = data['ghsl_water_surface'].apply(np.int64)\n",
    "data[\"ghsl_built_pre_1975\"] = data['ghsl_built_pre_1975'].apply(np.int64)\n",
    "data[\"ghsl_built_1990_to_2000\"] = data[\"ghsl_built_1990_to_2000\"].apply(np.int64)\n",
    "data[\"ghsl_built_2000_to_2014\"] = data[\"ghsl_built_2000_to_2014\"].apply(np.int64)\n",
    "data[\"ghsl_not_built_up\"] = data[\"ghsl_not_built_up\"].apply(np.int64)\n",
    "data[\"ghsl_pop_density\"] = data[\"ghsl_pop_density\"].apply(np.int64) \n",
    "data[\"landcover_crops_fraction\"] = data[\"landcover_crops_fraction\"].apply(np.int64)\n",
    "data[\"landcover_urban_fraction\"] = data[\"landcover_urban_fraction\"].apply(np.int64)\n",
    "data[\"landcover_water_permanent_10km_fraction\"] = data[\"landcover_water_permanent_10km_fraction\"].apply(np.int64)\n",
    "data[\"landcover_water_seasonal_10km_fraction\"] = data[\"landcover_water_seasonal_10km_fraction\"].apply(np.int64)\n",
    "data[\"nighttime_lights\"] = data[\"nighttime_lights\"].apply(np.int64) \n",
    "data[\"dist_to_shoreline\"] = data[\"dist_to_shoreline\"].apply(np.int64)\n",
    "data[\"ghsl_built_1975_to_1990\"] = data[\"ghsl_built_1975_to_1990\"].apply(np.int64)\n",
    "data[\"dist_to_capital\"] = data[\"dist_to_capital\"].apply(np.int64)\n"
   ]
  },
  {
   "cell_type": "code",
   "execution_count": 12,
   "id": "15e78802",
   "metadata": {},
   "outputs": [
    {
     "name": "stdout",
     "output_type": "stream",
     "text": [
      "<class 'pandas.core.frame.DataFrame'>\n",
      "RangeIndex: 28648 entries, 0 to 28647\n",
      "Data columns (total 19 columns):\n",
      " #   Column                                   Non-Null Count  Dtype  \n",
      "---  ------                                   --------------  -----  \n",
      " 0   ID                                       28648 non-null  object \n",
      " 1   country                                  28648 non-null  int64  \n",
      " 2   year                                     28648 non-null  int64  \n",
      " 3   urban_or_rural                           28648 non-null  int64  \n",
      " 4   ghsl_water_surface                       28648 non-null  int64  \n",
      " 5   ghsl_built_pre_1975                      28648 non-null  int64  \n",
      " 6   ghsl_built_1975_to_1990                  28648 non-null  int64  \n",
      " 7   ghsl_built_1990_to_2000                  28648 non-null  int64  \n",
      " 8   ghsl_built_2000_to_2014                  28648 non-null  int64  \n",
      " 9   ghsl_not_built_up                        28648 non-null  int64  \n",
      " 10  ghsl_pop_density                         28648 non-null  int64  \n",
      " 11  landcover_crops_fraction                 28648 non-null  int64  \n",
      " 12  landcover_urban_fraction                 28648 non-null  int64  \n",
      " 13  landcover_water_permanent_10km_fraction  28648 non-null  int64  \n",
      " 14  landcover_water_seasonal_10km_fraction   28648 non-null  int64  \n",
      " 15  nighttime_lights                         28648 non-null  int64  \n",
      " 16  dist_to_capital                          28648 non-null  int64  \n",
      " 17  dist_to_shoreline                        28648 non-null  int64  \n",
      " 18  Target                                   21455 non-null  float64\n",
      "dtypes: float64(1), int64(17), object(1)\n",
      "memory usage: 4.2+ MB\n"
     ]
    }
   ],
   "source": [
    "data.info()"
   ]
  },
  {
   "cell_type": "code",
   "execution_count": 19,
   "id": "69fffd0c",
   "metadata": {},
   "outputs": [
    {
     "data": {
      "text/plain": [
       "0        False\n",
       "1        False\n",
       "2        False\n",
       "3        False\n",
       "4        False\n",
       "         ...  \n",
       "28643    False\n",
       "28644    False\n",
       "28645    False\n",
       "28646    False\n",
       "28647    False\n",
       "Length: 28648, dtype: bool"
      ]
     },
     "execution_count": 19,
     "metadata": {},
     "output_type": "execute_result"
    }
   ],
   "source": [
    "np.isnan(data.any(axis=1))"
   ]
  },
  {
   "cell_type": "markdown",
   "id": "b01bb1fb",
   "metadata": {},
   "source": [
    "#### Split the data into independent features and target."
   ]
  },
  {
   "cell_type": "code",
   "execution_count": 13,
   "id": "29366f44",
   "metadata": {},
   "outputs": [],
   "source": [
    "X = data.drop([\"ID\",'Target'],axis=1)\n",
    " \n",
    "y = data.Target.values "
   ]
  },
  {
   "cell_type": "code",
   "execution_count": 14,
   "id": "092f13fb",
   "metadata": {},
   "outputs": [],
   "source": [
    "##Standardize the features by using StandardScaler from scikit-learn.\n",
    "from sklearn.preprocessing import StandardScaler\n",
    "X_scaled =  StandardScaler().fit_transform(X) "
   ]
  },
  {
   "cell_type": "code",
   "execution_count": 15,
   "id": "faaa14b9",
   "metadata": {},
   "outputs": [],
   "source": [
    "X_train, X_valid, y_train, y_valid = train_test_split(X_scaled,y,test_size = 0.2, random_state=1)"
   ]
  },
  {
   "cell_type": "code",
   "execution_count": 21,
   "id": "2a98bd25",
   "metadata": {},
   "outputs": [
    {
     "data": {
      "text/plain": [
       "((22918, 17), (22918,))"
      ]
     },
     "execution_count": 21,
     "metadata": {},
     "output_type": "execute_result"
    }
   ],
   "source": [
    "X_train.shape, y_train.shape"
   ]
  },
  {
   "cell_type": "code",
   "execution_count": 16,
   "id": "5fcf982a",
   "metadata": {},
   "outputs": [
    {
     "ename": "ValueError",
     "evalue": "Input contains NaN, infinity or a value too large for dtype('float64').",
     "output_type": "error",
     "traceback": [
      "\u001b[0;31m---------------------------------------------------------------------------\u001b[0m",
      "\u001b[0;31mValueError\u001b[0m                                Traceback (most recent call last)",
      "\u001b[0;32m<ipython-input-16-627102df29c3>\u001b[0m in \u001b[0;36m<module>\u001b[0;34m\u001b[0m\n\u001b[1;32m      1\u001b[0m \u001b[0mclassifier\u001b[0m \u001b[0;34m=\u001b[0m \u001b[0mRandomForestRegressor\u001b[0m\u001b[0;34m(\u001b[0m\u001b[0;34m)\u001b[0m\u001b[0;34m\u001b[0m\u001b[0;34m\u001b[0m\u001b[0m\n\u001b[1;32m      2\u001b[0m \u001b[0;34m\u001b[0m\u001b[0m\n\u001b[0;32m----> 3\u001b[0;31m \u001b[0mclassifier\u001b[0m\u001b[0;34m.\u001b[0m\u001b[0mfit\u001b[0m\u001b[0;34m(\u001b[0m\u001b[0mX_train\u001b[0m\u001b[0;34m,\u001b[0m\u001b[0my_train\u001b[0m\u001b[0;34m)\u001b[0m\u001b[0;34m\u001b[0m\u001b[0;34m\u001b[0m\u001b[0m\n\u001b[0m",
      "\u001b[0;32m~/anaconda3/lib/python3.8/site-packages/sklearn/ensemble/_forest.py\u001b[0m in \u001b[0;36mfit\u001b[0;34m(self, X, y, sample_weight)\u001b[0m\n\u001b[1;32m    302\u001b[0m                 \u001b[0;34m\"sparse multilabel-indicator for y is not supported.\"\u001b[0m\u001b[0;34m\u001b[0m\u001b[0;34m\u001b[0m\u001b[0m\n\u001b[1;32m    303\u001b[0m             )\n\u001b[0;32m--> 304\u001b[0;31m         X, y = self._validate_data(X, y, multi_output=True,\n\u001b[0m\u001b[1;32m    305\u001b[0m                                    accept_sparse=\"csc\", dtype=DTYPE)\n\u001b[1;32m    306\u001b[0m         \u001b[0;32mif\u001b[0m \u001b[0msample_weight\u001b[0m \u001b[0;32mis\u001b[0m \u001b[0;32mnot\u001b[0m \u001b[0;32mNone\u001b[0m\u001b[0;34m:\u001b[0m\u001b[0;34m\u001b[0m\u001b[0;34m\u001b[0m\u001b[0m\n",
      "\u001b[0;32m~/anaconda3/lib/python3.8/site-packages/sklearn/base.py\u001b[0m in \u001b[0;36m_validate_data\u001b[0;34m(self, X, y, reset, validate_separately, **check_params)\u001b[0m\n\u001b[1;32m    431\u001b[0m                 \u001b[0my\u001b[0m \u001b[0;34m=\u001b[0m \u001b[0mcheck_array\u001b[0m\u001b[0;34m(\u001b[0m\u001b[0my\u001b[0m\u001b[0;34m,\u001b[0m \u001b[0;34m**\u001b[0m\u001b[0mcheck_y_params\u001b[0m\u001b[0;34m)\u001b[0m\u001b[0;34m\u001b[0m\u001b[0;34m\u001b[0m\u001b[0m\n\u001b[1;32m    432\u001b[0m             \u001b[0;32melse\u001b[0m\u001b[0;34m:\u001b[0m\u001b[0;34m\u001b[0m\u001b[0;34m\u001b[0m\u001b[0m\n\u001b[0;32m--> 433\u001b[0;31m                 \u001b[0mX\u001b[0m\u001b[0;34m,\u001b[0m \u001b[0my\u001b[0m \u001b[0;34m=\u001b[0m \u001b[0mcheck_X_y\u001b[0m\u001b[0;34m(\u001b[0m\u001b[0mX\u001b[0m\u001b[0;34m,\u001b[0m \u001b[0my\u001b[0m\u001b[0;34m,\u001b[0m \u001b[0;34m**\u001b[0m\u001b[0mcheck_params\u001b[0m\u001b[0;34m)\u001b[0m\u001b[0;34m\u001b[0m\u001b[0;34m\u001b[0m\u001b[0m\n\u001b[0m\u001b[1;32m    434\u001b[0m             \u001b[0mout\u001b[0m \u001b[0;34m=\u001b[0m \u001b[0mX\u001b[0m\u001b[0;34m,\u001b[0m \u001b[0my\u001b[0m\u001b[0;34m\u001b[0m\u001b[0;34m\u001b[0m\u001b[0m\n\u001b[1;32m    435\u001b[0m \u001b[0;34m\u001b[0m\u001b[0m\n",
      "\u001b[0;32m~/anaconda3/lib/python3.8/site-packages/sklearn/utils/validation.py\u001b[0m in \u001b[0;36minner_f\u001b[0;34m(*args, **kwargs)\u001b[0m\n\u001b[1;32m     61\u001b[0m             \u001b[0mextra_args\u001b[0m \u001b[0;34m=\u001b[0m \u001b[0mlen\u001b[0m\u001b[0;34m(\u001b[0m\u001b[0margs\u001b[0m\u001b[0;34m)\u001b[0m \u001b[0;34m-\u001b[0m \u001b[0mlen\u001b[0m\u001b[0;34m(\u001b[0m\u001b[0mall_args\u001b[0m\u001b[0;34m)\u001b[0m\u001b[0;34m\u001b[0m\u001b[0;34m\u001b[0m\u001b[0m\n\u001b[1;32m     62\u001b[0m             \u001b[0;32mif\u001b[0m \u001b[0mextra_args\u001b[0m \u001b[0;34m<=\u001b[0m \u001b[0;36m0\u001b[0m\u001b[0;34m:\u001b[0m\u001b[0;34m\u001b[0m\u001b[0;34m\u001b[0m\u001b[0m\n\u001b[0;32m---> 63\u001b[0;31m                 \u001b[0;32mreturn\u001b[0m \u001b[0mf\u001b[0m\u001b[0;34m(\u001b[0m\u001b[0;34m*\u001b[0m\u001b[0margs\u001b[0m\u001b[0;34m,\u001b[0m \u001b[0;34m**\u001b[0m\u001b[0mkwargs\u001b[0m\u001b[0;34m)\u001b[0m\u001b[0;34m\u001b[0m\u001b[0;34m\u001b[0m\u001b[0m\n\u001b[0m\u001b[1;32m     64\u001b[0m \u001b[0;34m\u001b[0m\u001b[0m\n\u001b[1;32m     65\u001b[0m             \u001b[0;31m# extra_args > 0\u001b[0m\u001b[0;34m\u001b[0m\u001b[0;34m\u001b[0m\u001b[0;34m\u001b[0m\u001b[0m\n",
      "\u001b[0;32m~/anaconda3/lib/python3.8/site-packages/sklearn/utils/validation.py\u001b[0m in \u001b[0;36mcheck_X_y\u001b[0;34m(X, y, accept_sparse, accept_large_sparse, dtype, order, copy, force_all_finite, ensure_2d, allow_nd, multi_output, ensure_min_samples, ensure_min_features, y_numeric, estimator)\u001b[0m\n\u001b[1;32m    821\u001b[0m                     estimator=estimator)\n\u001b[1;32m    822\u001b[0m     \u001b[0;32mif\u001b[0m \u001b[0mmulti_output\u001b[0m\u001b[0;34m:\u001b[0m\u001b[0;34m\u001b[0m\u001b[0;34m\u001b[0m\u001b[0m\n\u001b[0;32m--> 823\u001b[0;31m         y = check_array(y, accept_sparse='csr', force_all_finite=True,\n\u001b[0m\u001b[1;32m    824\u001b[0m                         ensure_2d=False, dtype=None)\n\u001b[1;32m    825\u001b[0m     \u001b[0;32melse\u001b[0m\u001b[0;34m:\u001b[0m\u001b[0;34m\u001b[0m\u001b[0;34m\u001b[0m\u001b[0m\n",
      "\u001b[0;32m~/anaconda3/lib/python3.8/site-packages/sklearn/utils/validation.py\u001b[0m in \u001b[0;36minner_f\u001b[0;34m(*args, **kwargs)\u001b[0m\n\u001b[1;32m     61\u001b[0m             \u001b[0mextra_args\u001b[0m \u001b[0;34m=\u001b[0m \u001b[0mlen\u001b[0m\u001b[0;34m(\u001b[0m\u001b[0margs\u001b[0m\u001b[0;34m)\u001b[0m \u001b[0;34m-\u001b[0m \u001b[0mlen\u001b[0m\u001b[0;34m(\u001b[0m\u001b[0mall_args\u001b[0m\u001b[0;34m)\u001b[0m\u001b[0;34m\u001b[0m\u001b[0;34m\u001b[0m\u001b[0m\n\u001b[1;32m     62\u001b[0m             \u001b[0;32mif\u001b[0m \u001b[0mextra_args\u001b[0m \u001b[0;34m<=\u001b[0m \u001b[0;36m0\u001b[0m\u001b[0;34m:\u001b[0m\u001b[0;34m\u001b[0m\u001b[0;34m\u001b[0m\u001b[0m\n\u001b[0;32m---> 63\u001b[0;31m                 \u001b[0;32mreturn\u001b[0m \u001b[0mf\u001b[0m\u001b[0;34m(\u001b[0m\u001b[0;34m*\u001b[0m\u001b[0margs\u001b[0m\u001b[0;34m,\u001b[0m \u001b[0;34m**\u001b[0m\u001b[0mkwargs\u001b[0m\u001b[0;34m)\u001b[0m\u001b[0;34m\u001b[0m\u001b[0;34m\u001b[0m\u001b[0m\n\u001b[0m\u001b[1;32m     64\u001b[0m \u001b[0;34m\u001b[0m\u001b[0m\n\u001b[1;32m     65\u001b[0m             \u001b[0;31m# extra_args > 0\u001b[0m\u001b[0;34m\u001b[0m\u001b[0;34m\u001b[0m\u001b[0;34m\u001b[0m\u001b[0m\n",
      "\u001b[0;32m~/anaconda3/lib/python3.8/site-packages/sklearn/utils/validation.py\u001b[0m in \u001b[0;36mcheck_array\u001b[0;34m(array, accept_sparse, accept_large_sparse, dtype, order, copy, force_all_finite, ensure_2d, allow_nd, ensure_min_samples, ensure_min_features, estimator)\u001b[0m\n\u001b[1;32m    661\u001b[0m \u001b[0;34m\u001b[0m\u001b[0m\n\u001b[1;32m    662\u001b[0m         \u001b[0;32mif\u001b[0m \u001b[0mforce_all_finite\u001b[0m\u001b[0;34m:\u001b[0m\u001b[0;34m\u001b[0m\u001b[0;34m\u001b[0m\u001b[0m\n\u001b[0;32m--> 663\u001b[0;31m             _assert_all_finite(array,\n\u001b[0m\u001b[1;32m    664\u001b[0m                                allow_nan=force_all_finite == 'allow-nan')\n\u001b[1;32m    665\u001b[0m \u001b[0;34m\u001b[0m\u001b[0m\n",
      "\u001b[0;32m~/anaconda3/lib/python3.8/site-packages/sklearn/utils/validation.py\u001b[0m in \u001b[0;36m_assert_all_finite\u001b[0;34m(X, allow_nan, msg_dtype)\u001b[0m\n\u001b[1;32m    101\u001b[0m                 not allow_nan and not np.isfinite(X).all()):\n\u001b[1;32m    102\u001b[0m             \u001b[0mtype_err\u001b[0m \u001b[0;34m=\u001b[0m \u001b[0;34m'infinity'\u001b[0m \u001b[0;32mif\u001b[0m \u001b[0mallow_nan\u001b[0m \u001b[0;32melse\u001b[0m \u001b[0;34m'NaN, infinity'\u001b[0m\u001b[0;34m\u001b[0m\u001b[0;34m\u001b[0m\u001b[0m\n\u001b[0;32m--> 103\u001b[0;31m             raise ValueError(\n\u001b[0m\u001b[1;32m    104\u001b[0m                     \u001b[0mmsg_err\u001b[0m\u001b[0;34m.\u001b[0m\u001b[0mformat\u001b[0m\u001b[0;34m\u001b[0m\u001b[0;34m\u001b[0m\u001b[0m\n\u001b[1;32m    105\u001b[0m                     (type_err,\n",
      "\u001b[0;31mValueError\u001b[0m: Input contains NaN, infinity or a value too large for dtype('float64')."
     ]
    }
   ],
   "source": [
    "classifier = RandomForestRegressor()\n",
    " \n",
    "classifier.fit(X_train,y_train)"
   ]
  },
  {
   "cell_type": "code",
   "execution_count": 22,
   "id": "5e47ac2e",
   "metadata": {},
   "outputs": [
    {
     "data": {
      "text/plain": [
       "(array([], dtype=int64), array([], dtype=int64))"
      ]
     },
     "execution_count": 22,
     "metadata": {},
     "output_type": "execute_result"
    }
   ],
   "source": [
    "np.where(np.isnan(X_train))"
   ]
  },
  {
   "cell_type": "code",
   "execution_count": 23,
   "id": "9b1ccf84",
   "metadata": {},
   "outputs": [
    {
     "data": {
      "text/plain": [
       "(array([    4,     5,     6, ..., 22901, 22902, 22903]),)"
      ]
     },
     "execution_count": 23,
     "metadata": {},
     "output_type": "execute_result"
    }
   ],
   "source": [
    "np.where(np.isnan(y_train))"
   ]
  },
  {
   "cell_type": "code",
   "execution_count": 25,
   "id": "c85cd93b",
   "metadata": {},
   "outputs": [
    {
     "data": {
      "text/html": [
       "<div>\n",
       "<style scoped>\n",
       "    .dataframe tbody tr th:only-of-type {\n",
       "        vertical-align: middle;\n",
       "    }\n",
       "\n",
       "    .dataframe tbody tr th {\n",
       "        vertical-align: top;\n",
       "    }\n",
       "\n",
       "    .dataframe thead th {\n",
       "        text-align: right;\n",
       "    }\n",
       "</style>\n",
       "<table border=\"1\" class=\"dataframe\">\n",
       "  <thead>\n",
       "    <tr style=\"text-align: right;\">\n",
       "      <th></th>\n",
       "      <th>ID</th>\n",
       "      <th>country</th>\n",
       "      <th>year</th>\n",
       "      <th>urban_or_rural</th>\n",
       "      <th>ghsl_water_surface</th>\n",
       "      <th>ghsl_built_pre_1975</th>\n",
       "      <th>ghsl_built_1975_to_1990</th>\n",
       "      <th>ghsl_built_1990_to_2000</th>\n",
       "      <th>ghsl_built_2000_to_2014</th>\n",
       "      <th>ghsl_not_built_up</th>\n",
       "      <th>ghsl_pop_density</th>\n",
       "      <th>landcover_crops_fraction</th>\n",
       "      <th>landcover_urban_fraction</th>\n",
       "      <th>landcover_water_permanent_10km_fraction</th>\n",
       "      <th>landcover_water_seasonal_10km_fraction</th>\n",
       "      <th>nighttime_lights</th>\n",
       "      <th>dist_to_capital</th>\n",
       "      <th>dist_to_shoreline</th>\n",
       "      <th>Target</th>\n",
       "    </tr>\n",
       "  </thead>\n",
       "  <tbody>\n",
       "    <tr>\n",
       "      <th>0</th>\n",
       "      <td>ID_AAIethGy</td>\n",
       "      <td>7</td>\n",
       "      <td>2016</td>\n",
       "      <td>0</td>\n",
       "      <td>0</td>\n",
       "      <td>0</td>\n",
       "      <td>0</td>\n",
       "      <td>0</td>\n",
       "      <td>0</td>\n",
       "      <td>0</td>\n",
       "      <td>12</td>\n",
       "      <td>25</td>\n",
       "      <td>0</td>\n",
       "      <td>0</td>\n",
       "      <td>0</td>\n",
       "      <td>0</td>\n",
       "      <td>278</td>\n",
       "      <td>769</td>\n",
       "      <td>0.132783</td>\n",
       "    </tr>\n",
       "    <tr>\n",
       "      <th>1</th>\n",
       "      <td>ID_AAYiaCeL</td>\n",
       "      <td>7</td>\n",
       "      <td>2005</td>\n",
       "      <td>0</td>\n",
       "      <td>0</td>\n",
       "      <td>0</td>\n",
       "      <td>0</td>\n",
       "      <td>0</td>\n",
       "      <td>0</td>\n",
       "      <td>0</td>\n",
       "      <td>113</td>\n",
       "      <td>64</td>\n",
       "      <td>0</td>\n",
       "      <td>0</td>\n",
       "      <td>0</td>\n",
       "      <td>0</td>\n",
       "      <td>200</td>\n",
       "      <td>337</td>\n",
       "      <td>0.004898</td>\n",
       "    </tr>\n",
       "    <tr>\n",
       "      <th>2</th>\n",
       "      <td>ID_AAdurmKj</td>\n",
       "      <td>14</td>\n",
       "      <td>2009</td>\n",
       "      <td>0</td>\n",
       "      <td>0</td>\n",
       "      <td>0</td>\n",
       "      <td>0</td>\n",
       "      <td>0</td>\n",
       "      <td>0</td>\n",
       "      <td>1</td>\n",
       "      <td>0</td>\n",
       "      <td>4</td>\n",
       "      <td>0</td>\n",
       "      <td>0</td>\n",
       "      <td>0</td>\n",
       "      <td>0</td>\n",
       "      <td>642</td>\n",
       "      <td>169</td>\n",
       "      <td>0.097320</td>\n",
       "    </tr>\n",
       "    <tr>\n",
       "      <th>3</th>\n",
       "      <td>ID_AAgNHles</td>\n",
       "      <td>12</td>\n",
       "      <td>2015</td>\n",
       "      <td>0</td>\n",
       "      <td>0</td>\n",
       "      <td>0</td>\n",
       "      <td>0</td>\n",
       "      <td>0</td>\n",
       "      <td>0</td>\n",
       "      <td>0</td>\n",
       "      <td>5</td>\n",
       "      <td>25</td>\n",
       "      <td>2</td>\n",
       "      <td>11</td>\n",
       "      <td>0</td>\n",
       "      <td>0</td>\n",
       "      <td>365</td>\n",
       "      <td>613</td>\n",
       "      <td>0.304107</td>\n",
       "    </tr>\n",
       "    <tr>\n",
       "      <th>4</th>\n",
       "      <td>ID_AAishfND</td>\n",
       "      <td>9</td>\n",
       "      <td>2012</td>\n",
       "      <td>1</td>\n",
       "      <td>0</td>\n",
       "      <td>0</td>\n",
       "      <td>0</td>\n",
       "      <td>0</td>\n",
       "      <td>0</td>\n",
       "      <td>0</td>\n",
       "      <td>31</td>\n",
       "      <td>5</td>\n",
       "      <td>22</td>\n",
       "      <td>0</td>\n",
       "      <td>0</td>\n",
       "      <td>1</td>\n",
       "      <td>222</td>\n",
       "      <td>192</td>\n",
       "      <td>0.605328</td>\n",
       "    </tr>\n",
       "  </tbody>\n",
       "</table>\n",
       "</div>"
      ],
      "text/plain": [
       "            ID  country  year  urban_or_rural  ghsl_water_surface  \\\n",
       "0  ID_AAIethGy        7  2016               0                   0   \n",
       "1  ID_AAYiaCeL        7  2005               0                   0   \n",
       "2  ID_AAdurmKj       14  2009               0                   0   \n",
       "3  ID_AAgNHles       12  2015               0                   0   \n",
       "4  ID_AAishfND        9  2012               1                   0   \n",
       "\n",
       "   ghsl_built_pre_1975  ghsl_built_1975_to_1990  ghsl_built_1990_to_2000  \\\n",
       "0                    0                        0                        0   \n",
       "1                    0                        0                        0   \n",
       "2                    0                        0                        0   \n",
       "3                    0                        0                        0   \n",
       "4                    0                        0                        0   \n",
       "\n",
       "   ghsl_built_2000_to_2014  ghsl_not_built_up  ghsl_pop_density  \\\n",
       "0                        0                  0                12   \n",
       "1                        0                  0               113   \n",
       "2                        0                  1                 0   \n",
       "3                        0                  0                 5   \n",
       "4                        0                  0                31   \n",
       "\n",
       "   landcover_crops_fraction  landcover_urban_fraction  \\\n",
       "0                        25                         0   \n",
       "1                        64                         0   \n",
       "2                         4                         0   \n",
       "3                        25                         2   \n",
       "4                         5                        22   \n",
       "\n",
       "   landcover_water_permanent_10km_fraction  \\\n",
       "0                                        0   \n",
       "1                                        0   \n",
       "2                                        0   \n",
       "3                                       11   \n",
       "4                                        0   \n",
       "\n",
       "   landcover_water_seasonal_10km_fraction  nighttime_lights  dist_to_capital  \\\n",
       "0                                       0                 0              278   \n",
       "1                                       0                 0              200   \n",
       "2                                       0                 0              642   \n",
       "3                                       0                 0              365   \n",
       "4                                       0                 1              222   \n",
       "\n",
       "   dist_to_shoreline    Target  \n",
       "0                769  0.132783  \n",
       "1                337  0.004898  \n",
       "2                169  0.097320  \n",
       "3                613  0.304107  \n",
       "4                192  0.605328  "
      ]
     },
     "execution_count": 25,
     "metadata": {},
     "output_type": "execute_result"
    }
   ],
   "source": [
    "data.head()"
   ]
  },
  {
   "cell_type": "code",
   "execution_count": null,
   "id": "cbb08c76",
   "metadata": {},
   "outputs": [],
   "source": []
  }
 ],
 "metadata": {
  "kernelspec": {
   "display_name": "Python 3",
   "language": "python",
   "name": "python3"
  },
  "language_info": {
   "codemirror_mode": {
    "name": "ipython",
    "version": 3
   },
   "file_extension": ".py",
   "mimetype": "text/x-python",
   "name": "python",
   "nbconvert_exporter": "python",
   "pygments_lexer": "ipython3",
   "version": "3.8.8"
  }
 },
 "nbformat": 4,
 "nbformat_minor": 5
}
