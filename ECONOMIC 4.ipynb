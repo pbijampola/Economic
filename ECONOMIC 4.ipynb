{
 "cells": [
  {
   "cell_type": "markdown",
   "id": "9b1357c3",
   "metadata": {},
   "source": [
    "## IMPORTING LIBRARIES"
   ]
  },
  {
   "cell_type": "code",
   "execution_count": 2,
   "id": "0331b043",
   "metadata": {},
   "outputs": [],
   "source": [
    "import pandas as pd\n",
    "import numpy as np\n",
    "import os\n",
    "import matplotlib.pyplot as plt\n",
    "%matplotlib inline\n",
    "import seaborn as sns\n",
    "import warnings\n",
    "warnings.simplefilter(\"ignore\")"
   ]
  },
  {
   "cell_type": "markdown",
   "id": "b1897723",
   "metadata": {},
   "source": [
    "## LOADING DATASETS"
   ]
  },
  {
   "cell_type": "code",
   "execution_count": 3,
   "id": "80bf9c04",
   "metadata": {},
   "outputs": [],
   "source": [
    "train = pd.read_csv(\"Train.csv\")\n",
    "test = pd.read_csv(\"Test.csv\")\n",
    "submission = pd.read_csv(\"SampleSubmission.csv\")"
   ]
  },
  {
   "cell_type": "markdown",
   "id": "bfea3467",
   "metadata": {},
   "source": [
    "#### COMBINING THE DATASETS"
   ]
  },
  {
   "cell_type": "code",
   "execution_count": 4,
   "id": "856d2de5",
   "metadata": {},
   "outputs": [],
   "source": [
    "data = pd.concat([train,test],sort=False).reset_index(drop=True)"
   ]
  },
  {
   "cell_type": "markdown",
   "id": "ffc91574",
   "metadata": {},
   "source": [
    "## UNDERSTANDING THE DATASET (EDA)"
   ]
  },
  {
   "cell_type": "code",
   "execution_count": 5,
   "id": "9decb75a",
   "metadata": {},
   "outputs": [
    {
     "data": {
      "text/html": [
       "<div>\n",
       "<style scoped>\n",
       "    .dataframe tbody tr th:only-of-type {\n",
       "        vertical-align: middle;\n",
       "    }\n",
       "\n",
       "    .dataframe tbody tr th {\n",
       "        vertical-align: top;\n",
       "    }\n",
       "\n",
       "    .dataframe thead th {\n",
       "        text-align: right;\n",
       "    }\n",
       "</style>\n",
       "<table border=\"1\" class=\"dataframe\">\n",
       "  <thead>\n",
       "    <tr style=\"text-align: right;\">\n",
       "      <th></th>\n",
       "      <th>ID</th>\n",
       "      <th>country</th>\n",
       "      <th>year</th>\n",
       "      <th>urban_or_rural</th>\n",
       "      <th>ghsl_water_surface</th>\n",
       "      <th>ghsl_built_pre_1975</th>\n",
       "      <th>ghsl_built_1975_to_1990</th>\n",
       "      <th>ghsl_built_1990_to_2000</th>\n",
       "      <th>ghsl_built_2000_to_2014</th>\n",
       "      <th>ghsl_not_built_up</th>\n",
       "      <th>ghsl_pop_density</th>\n",
       "      <th>landcover_crops_fraction</th>\n",
       "      <th>landcover_urban_fraction</th>\n",
       "      <th>landcover_water_permanent_10km_fraction</th>\n",
       "      <th>landcover_water_seasonal_10km_fraction</th>\n",
       "      <th>nighttime_lights</th>\n",
       "      <th>dist_to_capital</th>\n",
       "      <th>dist_to_shoreline</th>\n",
       "      <th>Target</th>\n",
       "    </tr>\n",
       "  </thead>\n",
       "  <tbody>\n",
       "    <tr>\n",
       "      <th>0</th>\n",
       "      <td>ID_AAIethGy</td>\n",
       "      <td>Ethiopia</td>\n",
       "      <td>2016</td>\n",
       "      <td>R</td>\n",
       "      <td>0.0</td>\n",
       "      <td>0.000000</td>\n",
       "      <td>0.000000</td>\n",
       "      <td>0.000055</td>\n",
       "      <td>0.000536</td>\n",
       "      <td>0.999408</td>\n",
       "      <td>12.146134</td>\n",
       "      <td>25.489659</td>\n",
       "      <td>0.879484</td>\n",
       "      <td>0.000000</td>\n",
       "      <td>0.000000</td>\n",
       "      <td>0.000000</td>\n",
       "      <td>278.788451</td>\n",
       "      <td>769.338378</td>\n",
       "      <td>0.132783</td>\n",
       "    </tr>\n",
       "    <tr>\n",
       "      <th>1</th>\n",
       "      <td>ID_AAYiaCeL</td>\n",
       "      <td>Ethiopia</td>\n",
       "      <td>2005</td>\n",
       "      <td>R</td>\n",
       "      <td>0.0</td>\n",
       "      <td>0.000000</td>\n",
       "      <td>0.000110</td>\n",
       "      <td>0.000000</td>\n",
       "      <td>0.000018</td>\n",
       "      <td>0.999872</td>\n",
       "      <td>113.806716</td>\n",
       "      <td>64.136053</td>\n",
       "      <td>0.601427</td>\n",
       "      <td>0.000000</td>\n",
       "      <td>0.005427</td>\n",
       "      <td>0.000000</td>\n",
       "      <td>200.986978</td>\n",
       "      <td>337.135243</td>\n",
       "      <td>0.004898</td>\n",
       "    </tr>\n",
       "    <tr>\n",
       "      <th>2</th>\n",
       "      <td>ID_AAdurmKj</td>\n",
       "      <td>Mozambique</td>\n",
       "      <td>2009</td>\n",
       "      <td>R</td>\n",
       "      <td>0.0</td>\n",
       "      <td>0.000000</td>\n",
       "      <td>0.000000</td>\n",
       "      <td>0.000000</td>\n",
       "      <td>0.000000</td>\n",
       "      <td>1.000000</td>\n",
       "      <td>0.000000</td>\n",
       "      <td>4.400096</td>\n",
       "      <td>0.131900</td>\n",
       "      <td>0.000000</td>\n",
       "      <td>0.003078</td>\n",
       "      <td>0.000000</td>\n",
       "      <td>642.594208</td>\n",
       "      <td>169.913773</td>\n",
       "      <td>0.097320</td>\n",
       "    </tr>\n",
       "    <tr>\n",
       "      <th>3</th>\n",
       "      <td>ID_AAgNHles</td>\n",
       "      <td>Malawi</td>\n",
       "      <td>2015</td>\n",
       "      <td>R</td>\n",
       "      <td>0.0</td>\n",
       "      <td>0.000141</td>\n",
       "      <td>0.000181</td>\n",
       "      <td>0.000254</td>\n",
       "      <td>0.000228</td>\n",
       "      <td>0.999195</td>\n",
       "      <td>5.213320</td>\n",
       "      <td>25.379371</td>\n",
       "      <td>2.017136</td>\n",
       "      <td>11.293841</td>\n",
       "      <td>0.131035</td>\n",
       "      <td>0.000000</td>\n",
       "      <td>365.349451</td>\n",
       "      <td>613.591610</td>\n",
       "      <td>0.304107</td>\n",
       "    </tr>\n",
       "    <tr>\n",
       "      <th>4</th>\n",
       "      <td>ID_AAishfND</td>\n",
       "      <td>Guinea</td>\n",
       "      <td>2012</td>\n",
       "      <td>U</td>\n",
       "      <td>0.0</td>\n",
       "      <td>0.011649</td>\n",
       "      <td>0.017560</td>\n",
       "      <td>0.017383</td>\n",
       "      <td>0.099875</td>\n",
       "      <td>0.853533</td>\n",
       "      <td>31.734661</td>\n",
       "      <td>5.081620</td>\n",
       "      <td>22.815984</td>\n",
       "      <td>0.005047</td>\n",
       "      <td>0.130475</td>\n",
       "      <td>1.461894</td>\n",
       "      <td>222.867189</td>\n",
       "      <td>192.926363</td>\n",
       "      <td>0.605328</td>\n",
       "    </tr>\n",
       "  </tbody>\n",
       "</table>\n",
       "</div>"
      ],
      "text/plain": [
       "            ID     country  year urban_or_rural  ghsl_water_surface  \\\n",
       "0  ID_AAIethGy    Ethiopia  2016              R                 0.0   \n",
       "1  ID_AAYiaCeL    Ethiopia  2005              R                 0.0   \n",
       "2  ID_AAdurmKj  Mozambique  2009              R                 0.0   \n",
       "3  ID_AAgNHles      Malawi  2015              R                 0.0   \n",
       "4  ID_AAishfND      Guinea  2012              U                 0.0   \n",
       "\n",
       "   ghsl_built_pre_1975  ghsl_built_1975_to_1990  ghsl_built_1990_to_2000  \\\n",
       "0             0.000000                 0.000000                 0.000055   \n",
       "1             0.000000                 0.000110                 0.000000   \n",
       "2             0.000000                 0.000000                 0.000000   \n",
       "3             0.000141                 0.000181                 0.000254   \n",
       "4             0.011649                 0.017560                 0.017383   \n",
       "\n",
       "   ghsl_built_2000_to_2014  ghsl_not_built_up  ghsl_pop_density  \\\n",
       "0                 0.000536           0.999408         12.146134   \n",
       "1                 0.000018           0.999872        113.806716   \n",
       "2                 0.000000           1.000000          0.000000   \n",
       "3                 0.000228           0.999195          5.213320   \n",
       "4                 0.099875           0.853533         31.734661   \n",
       "\n",
       "   landcover_crops_fraction  landcover_urban_fraction  \\\n",
       "0                 25.489659                  0.879484   \n",
       "1                 64.136053                  0.601427   \n",
       "2                  4.400096                  0.131900   \n",
       "3                 25.379371                  2.017136   \n",
       "4                  5.081620                 22.815984   \n",
       "\n",
       "   landcover_water_permanent_10km_fraction  \\\n",
       "0                                 0.000000   \n",
       "1                                 0.000000   \n",
       "2                                 0.000000   \n",
       "3                                11.293841   \n",
       "4                                 0.005047   \n",
       "\n",
       "   landcover_water_seasonal_10km_fraction  nighttime_lights  dist_to_capital  \\\n",
       "0                                0.000000          0.000000       278.788451   \n",
       "1                                0.005427          0.000000       200.986978   \n",
       "2                                0.003078          0.000000       642.594208   \n",
       "3                                0.131035          0.000000       365.349451   \n",
       "4                                0.130475          1.461894       222.867189   \n",
       "\n",
       "   dist_to_shoreline    Target  \n",
       "0         769.338378  0.132783  \n",
       "1         337.135243  0.004898  \n",
       "2         169.913773  0.097320  \n",
       "3         613.591610  0.304107  \n",
       "4         192.926363  0.605328  "
      ]
     },
     "execution_count": 5,
     "metadata": {},
     "output_type": "execute_result"
    }
   ],
   "source": [
    "data.head()"
   ]
  },
  {
   "cell_type": "code",
   "execution_count": 6,
   "id": "4800c4ff",
   "metadata": {},
   "outputs": [
    {
     "name": "stdout",
     "output_type": "stream",
     "text": [
      "<class 'pandas.core.frame.DataFrame'>\n",
      "RangeIndex: 28648 entries, 0 to 28647\n",
      "Data columns (total 19 columns):\n",
      " #   Column                                   Non-Null Count  Dtype  \n",
      "---  ------                                   --------------  -----  \n",
      " 0   ID                                       28648 non-null  object \n",
      " 1   country                                  28648 non-null  object \n",
      " 2   year                                     28648 non-null  int64  \n",
      " 3   urban_or_rural                           28648 non-null  object \n",
      " 4   ghsl_water_surface                       28648 non-null  float64\n",
      " 5   ghsl_built_pre_1975                      28648 non-null  float64\n",
      " 6   ghsl_built_1975_to_1990                  28648 non-null  float64\n",
      " 7   ghsl_built_1990_to_2000                  28648 non-null  float64\n",
      " 8   ghsl_built_2000_to_2014                  28648 non-null  float64\n",
      " 9   ghsl_not_built_up                        28648 non-null  float64\n",
      " 10  ghsl_pop_density                         28648 non-null  float64\n",
      " 11  landcover_crops_fraction                 28648 non-null  float64\n",
      " 12  landcover_urban_fraction                 28648 non-null  float64\n",
      " 13  landcover_water_permanent_10km_fraction  28648 non-null  float64\n",
      " 14  landcover_water_seasonal_10km_fraction   28648 non-null  float64\n",
      " 15  nighttime_lights                         28648 non-null  float64\n",
      " 16  dist_to_capital                          28648 non-null  float64\n",
      " 17  dist_to_shoreline                        28648 non-null  float64\n",
      " 18  Target                                   21454 non-null  float64\n",
      "dtypes: float64(15), int64(1), object(3)\n",
      "memory usage: 4.2+ MB\n"
     ]
    }
   ],
   "source": [
    "data.info()"
   ]
  },
  {
   "cell_type": "code",
   "execution_count": 7,
   "id": "cf740f1d",
   "metadata": {},
   "outputs": [
    {
     "data": {
      "text/plain": [
       "(28648, 19)"
      ]
     },
     "execution_count": 7,
     "metadata": {},
     "output_type": "execute_result"
    }
   ],
   "source": [
    "data.shape"
   ]
  },
  {
   "cell_type": "code",
   "execution_count": 8,
   "id": "8a7c8a26",
   "metadata": {},
   "outputs": [
    {
     "data": {
      "text/html": [
       "<div>\n",
       "<style scoped>\n",
       "    .dataframe tbody tr th:only-of-type {\n",
       "        vertical-align: middle;\n",
       "    }\n",
       "\n",
       "    .dataframe tbody tr th {\n",
       "        vertical-align: top;\n",
       "    }\n",
       "\n",
       "    .dataframe thead th {\n",
       "        text-align: right;\n",
       "    }\n",
       "</style>\n",
       "<table border=\"1\" class=\"dataframe\">\n",
       "  <thead>\n",
       "    <tr style=\"text-align: right;\">\n",
       "      <th></th>\n",
       "      <th>count</th>\n",
       "      <th>mean</th>\n",
       "      <th>std</th>\n",
       "      <th>min</th>\n",
       "      <th>25%</th>\n",
       "      <th>50%</th>\n",
       "      <th>75%</th>\n",
       "      <th>max</th>\n",
       "    </tr>\n",
       "  </thead>\n",
       "  <tbody>\n",
       "    <tr>\n",
       "      <th>year</th>\n",
       "      <td>28648.0</td>\n",
       "      <td>2010.271537</td>\n",
       "      <td>4.553145</td>\n",
       "      <td>1994.000000</td>\n",
       "      <td>2008.000000</td>\n",
       "      <td>2011.000000</td>\n",
       "      <td>2014.000000</td>\n",
       "      <td>2016.000000</td>\n",
       "    </tr>\n",
       "    <tr>\n",
       "      <th>ghsl_water_surface</th>\n",
       "      <td>28648.0</td>\n",
       "      <td>0.027018</td>\n",
       "      <td>0.095199</td>\n",
       "      <td>0.000000</td>\n",
       "      <td>0.000000</td>\n",
       "      <td>0.000000</td>\n",
       "      <td>0.000000</td>\n",
       "      <td>0.991100</td>\n",
       "    </tr>\n",
       "    <tr>\n",
       "      <th>ghsl_built_pre_1975</th>\n",
       "      <td>28648.0</td>\n",
       "      <td>0.041010</td>\n",
       "      <td>0.118721</td>\n",
       "      <td>0.000000</td>\n",
       "      <td>0.000000</td>\n",
       "      <td>0.000160</td>\n",
       "      <td>0.008011</td>\n",
       "      <td>0.894608</td>\n",
       "    </tr>\n",
       "    <tr>\n",
       "      <th>ghsl_built_1975_to_1990</th>\n",
       "      <td>28648.0</td>\n",
       "      <td>0.027820</td>\n",
       "      <td>0.072850</td>\n",
       "      <td>0.000000</td>\n",
       "      <td>0.000000</td>\n",
       "      <td>0.000602</td>\n",
       "      <td>0.010037</td>\n",
       "      <td>0.685010</td>\n",
       "    </tr>\n",
       "    <tr>\n",
       "      <th>ghsl_built_1990_to_2000</th>\n",
       "      <td>28648.0</td>\n",
       "      <td>0.013713</td>\n",
       "      <td>0.034208</td>\n",
       "      <td>0.000000</td>\n",
       "      <td>0.000037</td>\n",
       "      <td>0.000936</td>\n",
       "      <td>0.008823</td>\n",
       "      <td>0.515534</td>\n",
       "    </tr>\n",
       "    <tr>\n",
       "      <th>ghsl_built_2000_to_2014</th>\n",
       "      <td>28648.0</td>\n",
       "      <td>0.018369</td>\n",
       "      <td>0.040241</td>\n",
       "      <td>0.000000</td>\n",
       "      <td>0.000109</td>\n",
       "      <td>0.001727</td>\n",
       "      <td>0.015209</td>\n",
       "      <td>0.649159</td>\n",
       "    </tr>\n",
       "    <tr>\n",
       "      <th>ghsl_not_built_up</th>\n",
       "      <td>28648.0</td>\n",
       "      <td>0.872069</td>\n",
       "      <td>0.242707</td>\n",
       "      <td>0.000859</td>\n",
       "      <td>0.895615</td>\n",
       "      <td>0.992725</td>\n",
       "      <td>0.999592</td>\n",
       "      <td>1.000000</td>\n",
       "    </tr>\n",
       "    <tr>\n",
       "      <th>ghsl_pop_density</th>\n",
       "      <td>28648.0</td>\n",
       "      <td>95.101508</td>\n",
       "      <td>210.079701</td>\n",
       "      <td>0.000000</td>\n",
       "      <td>2.943082</td>\n",
       "      <td>16.424158</td>\n",
       "      <td>64.364772</td>\n",
       "      <td>1902.876955</td>\n",
       "    </tr>\n",
       "    <tr>\n",
       "      <th>landcover_crops_fraction</th>\n",
       "      <td>28648.0</td>\n",
       "      <td>21.097237</td>\n",
       "      <td>16.309999</td>\n",
       "      <td>0.000000</td>\n",
       "      <td>6.105505</td>\n",
       "      <td>19.297194</td>\n",
       "      <td>33.199903</td>\n",
       "      <td>80.064918</td>\n",
       "    </tr>\n",
       "    <tr>\n",
       "      <th>landcover_urban_fraction</th>\n",
       "      <td>28648.0</td>\n",
       "      <td>14.079153</td>\n",
       "      <td>23.917510</td>\n",
       "      <td>0.000000</td>\n",
       "      <td>0.705307</td>\n",
       "      <td>2.599028</td>\n",
       "      <td>13.063126</td>\n",
       "      <td>98.784092</td>\n",
       "    </tr>\n",
       "    <tr>\n",
       "      <th>landcover_water_permanent_10km_fraction</th>\n",
       "      <td>28648.0</td>\n",
       "      <td>1.668968</td>\n",
       "      <td>7.152657</td>\n",
       "      <td>0.000000</td>\n",
       "      <td>0.000000</td>\n",
       "      <td>0.000579</td>\n",
       "      <td>0.172243</td>\n",
       "      <td>99.164018</td>\n",
       "    </tr>\n",
       "    <tr>\n",
       "      <th>landcover_water_seasonal_10km_fraction</th>\n",
       "      <td>28648.0</td>\n",
       "      <td>0.694652</td>\n",
       "      <td>2.383790</td>\n",
       "      <td>0.000000</td>\n",
       "      <td>0.001394</td>\n",
       "      <td>0.033941</td>\n",
       "      <td>0.375420</td>\n",
       "      <td>56.201637</td>\n",
       "    </tr>\n",
       "    <tr>\n",
       "      <th>nighttime_lights</th>\n",
       "      <td>28648.0</td>\n",
       "      <td>9.260498</td>\n",
       "      <td>26.160952</td>\n",
       "      <td>0.000000</td>\n",
       "      <td>0.000000</td>\n",
       "      <td>0.024074</td>\n",
       "      <td>4.963472</td>\n",
       "      <td>403.455783</td>\n",
       "    </tr>\n",
       "    <tr>\n",
       "      <th>dist_to_capital</th>\n",
       "      <td>28648.0</td>\n",
       "      <td>300.584775</td>\n",
       "      <td>269.097712</td>\n",
       "      <td>0.105306</td>\n",
       "      <td>110.789483</td>\n",
       "      <td>253.537926</td>\n",
       "      <td>403.780077</td>\n",
       "      <td>1908.105037</td>\n",
       "    </tr>\n",
       "    <tr>\n",
       "      <th>dist_to_shoreline</th>\n",
       "      <td>28648.0</td>\n",
       "      <td>473.801360</td>\n",
       "      <td>355.856845</td>\n",
       "      <td>0.112080</td>\n",
       "      <td>158.829182</td>\n",
       "      <td>420.442368</td>\n",
       "      <td>732.552186</td>\n",
       "      <td>1769.523906</td>\n",
       "    </tr>\n",
       "    <tr>\n",
       "      <th>Target</th>\n",
       "      <td>21454.0</td>\n",
       "      <td>0.350736</td>\n",
       "      <td>0.194376</td>\n",
       "      <td>0.000000</td>\n",
       "      <td>0.195772</td>\n",
       "      <td>0.293574</td>\n",
       "      <td>0.499003</td>\n",
       "      <td>1.000000</td>\n",
       "    </tr>\n",
       "  </tbody>\n",
       "</table>\n",
       "</div>"
      ],
      "text/plain": [
       "                                           count         mean         std  \\\n",
       "year                                     28648.0  2010.271537    4.553145   \n",
       "ghsl_water_surface                       28648.0     0.027018    0.095199   \n",
       "ghsl_built_pre_1975                      28648.0     0.041010    0.118721   \n",
       "ghsl_built_1975_to_1990                  28648.0     0.027820    0.072850   \n",
       "ghsl_built_1990_to_2000                  28648.0     0.013713    0.034208   \n",
       "ghsl_built_2000_to_2014                  28648.0     0.018369    0.040241   \n",
       "ghsl_not_built_up                        28648.0     0.872069    0.242707   \n",
       "ghsl_pop_density                         28648.0    95.101508  210.079701   \n",
       "landcover_crops_fraction                 28648.0    21.097237   16.309999   \n",
       "landcover_urban_fraction                 28648.0    14.079153   23.917510   \n",
       "landcover_water_permanent_10km_fraction  28648.0     1.668968    7.152657   \n",
       "landcover_water_seasonal_10km_fraction   28648.0     0.694652    2.383790   \n",
       "nighttime_lights                         28648.0     9.260498   26.160952   \n",
       "dist_to_capital                          28648.0   300.584775  269.097712   \n",
       "dist_to_shoreline                        28648.0   473.801360  355.856845   \n",
       "Target                                   21454.0     0.350736    0.194376   \n",
       "\n",
       "                                                 min          25%  \\\n",
       "year                                     1994.000000  2008.000000   \n",
       "ghsl_water_surface                          0.000000     0.000000   \n",
       "ghsl_built_pre_1975                         0.000000     0.000000   \n",
       "ghsl_built_1975_to_1990                     0.000000     0.000000   \n",
       "ghsl_built_1990_to_2000                     0.000000     0.000037   \n",
       "ghsl_built_2000_to_2014                     0.000000     0.000109   \n",
       "ghsl_not_built_up                           0.000859     0.895615   \n",
       "ghsl_pop_density                            0.000000     2.943082   \n",
       "landcover_crops_fraction                    0.000000     6.105505   \n",
       "landcover_urban_fraction                    0.000000     0.705307   \n",
       "landcover_water_permanent_10km_fraction     0.000000     0.000000   \n",
       "landcover_water_seasonal_10km_fraction      0.000000     0.001394   \n",
       "nighttime_lights                            0.000000     0.000000   \n",
       "dist_to_capital                             0.105306   110.789483   \n",
       "dist_to_shoreline                           0.112080   158.829182   \n",
       "Target                                      0.000000     0.195772   \n",
       "\n",
       "                                                 50%          75%          max  \n",
       "year                                     2011.000000  2014.000000  2016.000000  \n",
       "ghsl_water_surface                          0.000000     0.000000     0.991100  \n",
       "ghsl_built_pre_1975                         0.000160     0.008011     0.894608  \n",
       "ghsl_built_1975_to_1990                     0.000602     0.010037     0.685010  \n",
       "ghsl_built_1990_to_2000                     0.000936     0.008823     0.515534  \n",
       "ghsl_built_2000_to_2014                     0.001727     0.015209     0.649159  \n",
       "ghsl_not_built_up                           0.992725     0.999592     1.000000  \n",
       "ghsl_pop_density                           16.424158    64.364772  1902.876955  \n",
       "landcover_crops_fraction                   19.297194    33.199903    80.064918  \n",
       "landcover_urban_fraction                    2.599028    13.063126    98.784092  \n",
       "landcover_water_permanent_10km_fraction     0.000579     0.172243    99.164018  \n",
       "landcover_water_seasonal_10km_fraction      0.033941     0.375420    56.201637  \n",
       "nighttime_lights                            0.024074     4.963472   403.455783  \n",
       "dist_to_capital                           253.537926   403.780077  1908.105037  \n",
       "dist_to_shoreline                         420.442368   732.552186  1769.523906  \n",
       "Target                                      0.293574     0.499003     1.000000  "
      ]
     },
     "execution_count": 8,
     "metadata": {},
     "output_type": "execute_result"
    }
   ],
   "source": [
    "data.describe().T"
   ]
  },
  {
   "cell_type": "code",
   "execution_count": 9,
   "id": "f1fab1a6",
   "metadata": {},
   "outputs": [
    {
     "data": {
      "text/plain": [
       "year                                      -1.258741\n",
       "ghsl_water_surface                         4.539743\n",
       "ghsl_built_pre_1975                        3.817788\n",
       "ghsl_built_1975_to_1990                    3.801689\n",
       "ghsl_built_1990_to_2000                    4.787101\n",
       "ghsl_built_2000_to_2014                    3.897848\n",
       "ghsl_not_built_up                         -2.111417\n",
       "ghsl_pop_density                           3.693075\n",
       "landcover_crops_fraction                   0.520794\n",
       "landcover_urban_fraction                   2.009309\n",
       "landcover_water_permanent_10km_fraction    6.799032\n",
       "landcover_water_seasonal_10km_fraction     8.674562\n",
       "nighttime_lights                           6.292776\n",
       "dist_to_capital                            2.104264\n",
       "dist_to_shoreline                          0.431829\n",
       "Target                                     0.665610\n",
       "dtype: float64"
      ]
     },
     "execution_count": 9,
     "metadata": {},
     "output_type": "execute_result"
    }
   ],
   "source": [
    "data.skew().T"
   ]
  },
  {
   "cell_type": "code",
   "execution_count": 10,
   "id": "121fc07d",
   "metadata": {},
   "outputs": [
    {
     "data": {
      "text/plain": [
       "Target                                     1.000000\n",
       "landcover_urban_fraction                   0.666768\n",
       "nighttime_lights                           0.550703\n",
       "ghsl_pop_density                           0.525206\n",
       "ghsl_built_1975_to_1990                    0.500753\n",
       "ghsl_built_pre_1975                        0.450119\n",
       "ghsl_built_2000_to_2014                    0.429262\n",
       "ghsl_built_1990_to_2000                    0.425059\n",
       "ghsl_water_surface                         0.182816\n",
       "year                                       0.115014\n",
       "landcover_water_seasonal_10km_fraction     0.066462\n",
       "landcover_water_permanent_10km_fraction    0.017210\n",
       "dist_to_capital                           -0.235850\n",
       "landcover_crops_fraction                  -0.253550\n",
       "dist_to_shoreline                         -0.321828\n",
       "ghsl_not_built_up                         -0.580670\n",
       "Name: Target, dtype: float64"
      ]
     },
     "execution_count": 10,
     "metadata": {},
     "output_type": "execute_result"
    }
   ],
   "source": [
    "corr=data.corr()[\"Target\"]\n",
    "corr[np.argsort(corr, axis=0)[::-1]]"
   ]
  },
  {
   "cell_type": "markdown",
   "id": "e676a4f4",
   "metadata": {},
   "source": [
    "## VISUALIZING THE DATASET"
   ]
  },
  {
   "cell_type": "code",
   "execution_count": 11,
   "id": "473af566",
   "metadata": {},
   "outputs": [
    {
     "data": {
      "image/png": "[encoded data removed]",
      "text/plain": [
       "<Figure size 432x288 with 16 Axes>"
      ]
     },
     "metadata": {
      "needs_background": "light"
     },
     "output_type": "display_data"
    }
   ],
   "source": [
    "## univiriant\n",
    "data.plot(kind= 'box' , subplots=True, layout=(4,4), sharex=False)\n",
    "plt.show()"
   ]
  },
  {
   "cell_type": "code",
   "execution_count": 12,
   "id": "224bc42d",
   "metadata": {},
   "outputs": [],
   "source": [
    "###Multivariate Plots\n",
    "#from pandas.tools.plotting import scatter_matrix\n",
    "#scatter_matrix(data)\n",
    "#plt.show()"
   ]
  },
  {
   "cell_type": "code",
   "execution_count": 13,
   "id": "67b47f2f",
   "metadata": {},
   "outputs": [
    {
     "data": {
      "text/plain": [
       "ID                                         False\n",
       "country                                    False\n",
       "year                                       False\n",
       "urban_or_rural                             False\n",
       "ghsl_water_surface                         False\n",
       "ghsl_built_pre_1975                        False\n",
       "ghsl_built_1975_to_1990                    False\n",
       "ghsl_built_1990_to_2000                    False\n",
       "ghsl_built_2000_to_2014                    False\n",
       "ghsl_not_built_up                          False\n",
       "ghsl_pop_density                           False\n",
       "landcover_crops_fraction                   False\n",
       "landcover_urban_fraction                   False\n",
       "landcover_water_permanent_10km_fraction    False\n",
       "landcover_water_seasonal_10km_fraction     False\n",
       "nighttime_lights                           False\n",
       "dist_to_capital                            False\n",
       "dist_to_shoreline                          False\n",
       "Target                                      True\n",
       "dtype: bool"
      ]
     },
     "execution_count": 13,
     "metadata": {},
     "output_type": "execute_result"
    }
   ],
   "source": [
    "data.isnull().any()"
   ]
  },
  {
   "cell_type": "code",
   "execution_count": 14,
   "id": "6b343469",
   "metadata": {},
   "outputs": [
    {
     "data": {
      "text/plain": [
       "False"
      ]
     },
     "execution_count": 14,
     "metadata": {},
     "output_type": "execute_result"
    }
   ],
   "source": [
    "data.duplicated().any()"
   ]
  },
  {
   "cell_type": "markdown",
   "id": "b8117ea6",
   "metadata": {},
   "source": [
    "## Encoding the categorical features\n",
    "\n",
    "\n"
   ]
  },
  {
   "cell_type": "code",
   "execution_count": 15,
   "id": "2e75f128",
   "metadata": {},
   "outputs": [],
   "source": [
    "#import preprocessing module \n",
    "\n",
    "from sklearn.preprocessing import LabelEncoder\n",
    "\n",
    "le = LabelEncoder()\n",
    "data['urban_or_rural'] = le.fit_transform(data['urban_or_rural'])\n",
    "data['country'] = le.fit_transform(data['country'])"
   ]
  },
  {
   "cell_type": "code",
   "execution_count": 16,
   "id": "416500b3",
   "metadata": {},
   "outputs": [],
   "source": [
    "## convert float dtypes to int\n",
    "data[\"year\"] = data['year'].astype('float')\n",
    "data[\"urban_or_rural\"] = data['urban_or_rural'].astype('float')\n",
    "data[\"country\"] = data['country'].astype('float')"
   ]
  },
  {
   "cell_type": "code",
   "execution_count": 17,
   "id": "0b6688fb",
   "metadata": {},
   "outputs": [
    {
     "data": {
      "text/html": [
       "<div>\n",
       "<style scoped>\n",
       "    .dataframe tbody tr th:only-of-type {\n",
       "        vertical-align: middle;\n",
       "    }\n",
       "\n",
       "    .dataframe tbody tr th {\n",
       "        vertical-align: top;\n",
       "    }\n",
       "\n",
       "    .dataframe thead th {\n",
       "        text-align: right;\n",
       "    }\n",
       "</style>\n",
       "<table border=\"1\" class=\"dataframe\">\n",
       "  <thead>\n",
       "    <tr style=\"text-align: right;\">\n",
       "      <th></th>\n",
       "      <th>ID</th>\n",
       "      <th>country</th>\n",
       "      <th>year</th>\n",
       "      <th>urban_or_rural</th>\n",
       "      <th>ghsl_water_surface</th>\n",
       "      <th>ghsl_built_pre_1975</th>\n",
       "      <th>ghsl_built_1975_to_1990</th>\n",
       "      <th>ghsl_built_1990_to_2000</th>\n",
       "      <th>ghsl_built_2000_to_2014</th>\n",
       "      <th>ghsl_not_built_up</th>\n",
       "      <th>ghsl_pop_density</th>\n",
       "      <th>landcover_crops_fraction</th>\n",
       "      <th>landcover_urban_fraction</th>\n",
       "      <th>landcover_water_permanent_10km_fraction</th>\n",
       "      <th>landcover_water_seasonal_10km_fraction</th>\n",
       "      <th>nighttime_lights</th>\n",
       "      <th>dist_to_capital</th>\n",
       "      <th>dist_to_shoreline</th>\n",
       "      <th>Target</th>\n",
       "    </tr>\n",
       "  </thead>\n",
       "  <tbody>\n",
       "    <tr>\n",
       "      <th>0</th>\n",
       "      <td>ID_AAIethGy</td>\n",
       "      <td>7.0</td>\n",
       "      <td>2016.0</td>\n",
       "      <td>0.0</td>\n",
       "      <td>0.0</td>\n",
       "      <td>0.000000</td>\n",
       "      <td>0.000000</td>\n",
       "      <td>0.000055</td>\n",
       "      <td>0.000536</td>\n",
       "      <td>0.999408</td>\n",
       "      <td>12.146134</td>\n",
       "      <td>25.489659</td>\n",
       "      <td>0.879484</td>\n",
       "      <td>0.000000</td>\n",
       "      <td>0.000000</td>\n",
       "      <td>0.000000</td>\n",
       "      <td>278.788451</td>\n",
       "      <td>769.338378</td>\n",
       "      <td>0.132783</td>\n",
       "    </tr>\n",
       "    <tr>\n",
       "      <th>1</th>\n",
       "      <td>ID_AAYiaCeL</td>\n",
       "      <td>7.0</td>\n",
       "      <td>2005.0</td>\n",
       "      <td>0.0</td>\n",
       "      <td>0.0</td>\n",
       "      <td>0.000000</td>\n",
       "      <td>0.000110</td>\n",
       "      <td>0.000000</td>\n",
       "      <td>0.000018</td>\n",
       "      <td>0.999872</td>\n",
       "      <td>113.806716</td>\n",
       "      <td>64.136053</td>\n",
       "      <td>0.601427</td>\n",
       "      <td>0.000000</td>\n",
       "      <td>0.005427</td>\n",
       "      <td>0.000000</td>\n",
       "      <td>200.986978</td>\n",
       "      <td>337.135243</td>\n",
       "      <td>0.004898</td>\n",
       "    </tr>\n",
       "    <tr>\n",
       "      <th>2</th>\n",
       "      <td>ID_AAdurmKj</td>\n",
       "      <td>14.0</td>\n",
       "      <td>2009.0</td>\n",
       "      <td>0.0</td>\n",
       "      <td>0.0</td>\n",
       "      <td>0.000000</td>\n",
       "      <td>0.000000</td>\n",
       "      <td>0.000000</td>\n",
       "      <td>0.000000</td>\n",
       "      <td>1.000000</td>\n",
       "      <td>0.000000</td>\n",
       "      <td>4.400096</td>\n",
       "      <td>0.131900</td>\n",
       "      <td>0.000000</td>\n",
       "      <td>0.003078</td>\n",
       "      <td>0.000000</td>\n",
       "      <td>642.594208</td>\n",
       "      <td>169.913773</td>\n",
       "      <td>0.097320</td>\n",
       "    </tr>\n",
       "    <tr>\n",
       "      <th>3</th>\n",
       "      <td>ID_AAgNHles</td>\n",
       "      <td>12.0</td>\n",
       "      <td>2015.0</td>\n",
       "      <td>0.0</td>\n",
       "      <td>0.0</td>\n",
       "      <td>0.000141</td>\n",
       "      <td>0.000181</td>\n",
       "      <td>0.000254</td>\n",
       "      <td>0.000228</td>\n",
       "      <td>0.999195</td>\n",
       "      <td>5.213320</td>\n",
       "      <td>25.379371</td>\n",
       "      <td>2.017136</td>\n",
       "      <td>11.293841</td>\n",
       "      <td>0.131035</td>\n",
       "      <td>0.000000</td>\n",
       "      <td>365.349451</td>\n",
       "      <td>613.591610</td>\n",
       "      <td>0.304107</td>\n",
       "    </tr>\n",
       "    <tr>\n",
       "      <th>4</th>\n",
       "      <td>ID_AAishfND</td>\n",
       "      <td>9.0</td>\n",
       "      <td>2012.0</td>\n",
       "      <td>1.0</td>\n",
       "      <td>0.0</td>\n",
       "      <td>0.011649</td>\n",
       "      <td>0.017560</td>\n",
       "      <td>0.017383</td>\n",
       "      <td>0.099875</td>\n",
       "      <td>0.853533</td>\n",
       "      <td>31.734661</td>\n",
       "      <td>5.081620</td>\n",
       "      <td>22.815984</td>\n",
       "      <td>0.005047</td>\n",
       "      <td>0.130475</td>\n",
       "      <td>1.461894</td>\n",
       "      <td>222.867189</td>\n",
       "      <td>192.926363</td>\n",
       "      <td>0.605328</td>\n",
       "    </tr>\n",
       "  </tbody>\n",
       "</table>\n",
       "</div>"
      ],
      "text/plain": [
       "            ID  country    year  urban_or_rural  ghsl_water_surface  \\\n",
       "0  ID_AAIethGy      7.0  2016.0             0.0                 0.0   \n",
       "1  ID_AAYiaCeL      7.0  2005.0             0.0                 0.0   \n",
       "2  ID_AAdurmKj     14.0  2009.0             0.0                 0.0   \n",
       "3  ID_AAgNHles     12.0  2015.0             0.0                 0.0   \n",
       "4  ID_AAishfND      9.0  2012.0             1.0                 0.0   \n",
       "\n",
       "   ghsl_built_pre_1975  ghsl_built_1975_to_1990  ghsl_built_1990_to_2000  \\\n",
       "0             0.000000                 0.000000                 0.000055   \n",
       "1             0.000000                 0.000110                 0.000000   \n",
       "2             0.000000                 0.000000                 0.000000   \n",
       "3             0.000141                 0.000181                 0.000254   \n",
       "4             0.011649                 0.017560                 0.017383   \n",
       "\n",
       "   ghsl_built_2000_to_2014  ghsl_not_built_up  ghsl_pop_density  \\\n",
       "0                 0.000536           0.999408         12.146134   \n",
       "1                 0.000018           0.999872        113.806716   \n",
       "2                 0.000000           1.000000          0.000000   \n",
       "3                 0.000228           0.999195          5.213320   \n",
       "4                 0.099875           0.853533         31.734661   \n",
       "\n",
       "   landcover_crops_fraction  landcover_urban_fraction  \\\n",
       "0                 25.489659                  0.879484   \n",
       "1                 64.136053                  0.601427   \n",
       "2                  4.400096                  0.131900   \n",
       "3                 25.379371                  2.017136   \n",
       "4                  5.081620                 22.815984   \n",
       "\n",
       "   landcover_water_permanent_10km_fraction  \\\n",
       "0                                 0.000000   \n",
       "1                                 0.000000   \n",
       "2                                 0.000000   \n",
       "3                                11.293841   \n",
       "4                                 0.005047   \n",
       "\n",
       "   landcover_water_seasonal_10km_fraction  nighttime_lights  dist_to_capital  \\\n",
       "0                                0.000000          0.000000       278.788451   \n",
       "1                                0.005427          0.000000       200.986978   \n",
       "2                                0.003078          0.000000       642.594208   \n",
       "3                                0.131035          0.000000       365.349451   \n",
       "4                                0.130475          1.461894       222.867189   \n",
       "\n",
       "   dist_to_shoreline    Target  \n",
       "0         769.338378  0.132783  \n",
       "1         337.135243  0.004898  \n",
       "2         169.913773  0.097320  \n",
       "3         613.591610  0.304107  \n",
       "4         192.926363  0.605328  "
      ]
     },
     "execution_count": 17,
     "metadata": {},
     "output_type": "execute_result"
    }
   ],
   "source": [
    "data.head()"
   ]
  },
  {
   "cell_type": "code",
   "execution_count": 18,
   "id": "6746dfe1",
   "metadata": {},
   "outputs": [
    {
     "data": {
      "text/plain": [
       "Target                                     1.000000\n",
       "urban_or_rural                             0.678187\n",
       "landcover_urban_fraction                   0.666768\n",
       "nighttime_lights                           0.550703\n",
       "ghsl_pop_density                           0.525206\n",
       "ghsl_built_1975_to_1990                    0.500753\n",
       "ghsl_built_pre_1975                        0.450119\n",
       "ghsl_built_2000_to_2014                    0.429262\n",
       "ghsl_built_1990_to_2000                    0.425059\n",
       "ghsl_water_surface                         0.182816\n",
       "year                                       0.115014\n",
       "landcover_water_seasonal_10km_fraction     0.066462\n",
       "landcover_water_permanent_10km_fraction    0.017210\n",
       "country                                   -0.016650\n",
       "dist_to_capital                           -0.235850\n",
       "landcover_crops_fraction                  -0.253550\n",
       "dist_to_shoreline                         -0.321828\n",
       "ghsl_not_built_up                         -0.580670\n",
       "Name: Target, dtype: float64"
      ]
     },
     "execution_count": 18,
     "metadata": {},
     "output_type": "execute_result"
    }
   ],
   "source": [
    "## CHECKING THE CORRELATIONAL AFTER ENCONDING & DATA TYPE CONVERSION\n",
    "corr=data.corr()[\"Target\"]\n",
    "corr[np.argsort(corr, axis=0)[::-1]]"
   ]
  },
  {
   "cell_type": "code",
   "execution_count": 28,
   "id": "14bb06a7",
   "metadata": {},
   "outputs": [],
   "source": [
    "#Removal of higher corrolated features >0.5\n",
    "data.drop(['urban_or_rural','landcover_urban_fraction','nighttime_lights','ghsl_pop_density','ghsl_built_1975_to_1990'],1,inplace=True)"
   ]
  },
  {
   "cell_type": "code",
   "execution_count": 29,
   "id": "146cc37e",
   "metadata": {},
   "outputs": [
    {
     "name": "stdout",
     "output_type": "stream",
     "text": [
      "<class 'pandas.core.frame.DataFrame'>\n",
      "RangeIndex: 28648 entries, 0 to 28647\n",
      "Data columns (total 14 columns):\n",
      " #   Column                                   Non-Null Count  Dtype  \n",
      "---  ------                                   --------------  -----  \n",
      " 0   ID                                       28648 non-null  object \n",
      " 1   country                                  28648 non-null  float64\n",
      " 2   year                                     28648 non-null  float64\n",
      " 3   ghsl_water_surface                       28648 non-null  float64\n",
      " 4   ghsl_built_pre_1975                      28648 non-null  float64\n",
      " 5   ghsl_built_1990_to_2000                  28648 non-null  float64\n",
      " 6   ghsl_built_2000_to_2014                  28648 non-null  float64\n",
      " 7   ghsl_not_built_up                        28648 non-null  float64\n",
      " 8   landcover_crops_fraction                 28648 non-null  float64\n",
      " 9   landcover_water_permanent_10km_fraction  28648 non-null  float64\n",
      " 10  landcover_water_seasonal_10km_fraction   28648 non-null  float64\n",
      " 11  dist_to_capital                          28648 non-null  float64\n",
      " 12  dist_to_shoreline                        28648 non-null  float64\n",
      " 13  Target                                   21454 non-null  float64\n",
      "dtypes: float64(13), object(1)\n",
      "memory usage: 3.1+ MB\n"
     ]
    }
   ],
   "source": [
    "data.info()"
   ]
  },
  {
   "cell_type": "code",
   "execution_count": 30,
   "id": "195a036f",
   "metadata": {},
   "outputs": [],
   "source": [
    "## separating data into train and test\n",
    "\n",
    "train=data[data.Target.notnull()].reset_index(drop=True)\n",
    "test=data[data.Target.isna()].reset_index(drop=True)"
   ]
  },
  {
   "cell_type": "code",
   "execution_count": 31,
   "id": "3c727f9e",
   "metadata": {},
   "outputs": [
    {
     "data": {
      "text/plain": [
       "((21454, 14), (7194, 14))"
      ]
     },
     "execution_count": 31,
     "metadata": {},
     "output_type": "execute_result"
    }
   ],
   "source": [
    "train.shape , test.shape"
   ]
  },
  {
   "cell_type": "markdown",
   "id": "46944368",
   "metadata": {},
   "source": [
    "#### FEATURE SELECTION"
   ]
  },
  {
   "cell_type": "code",
   "execution_count": 32,
   "id": "0346c0b7",
   "metadata": {},
   "outputs": [],
   "source": [
    "feat_cols = train.drop([\"ID\",\"Target\"],1)\n",
    "cols = feat_cols.columns\n",
    "target=train[\"Target\"]"
   ]
  },
  {
   "cell_type": "code",
   "execution_count": 33,
   "id": "e19bdc6d",
   "metadata": {},
   "outputs": [
    {
     "data": {
      "text/plain": [
       "((21454, 12), (21454,))"
      ]
     },
     "execution_count": 33,
     "metadata": {},
     "output_type": "execute_result"
    }
   ],
   "source": [
    "train[cols].shape , target.shape"
   ]
  },
  {
   "cell_type": "markdown",
   "id": "c02d2ddb",
   "metadata": {},
   "source": [
    "### MODELLING"
   ]
  },
  {
   "cell_type": "code",
   "execution_count": 34,
   "id": "e3c9fd74",
   "metadata": {},
   "outputs": [],
   "source": [
    "from sklearn.model_selection import train_test_split"
   ]
  },
  {
   "cell_type": "code",
   "execution_count": 35,
   "id": "bc5a8a31",
   "metadata": {},
   "outputs": [
    {
     "name": "stdout",
     "output_type": "stream",
     "text": [
      "(17163, 12) (17163,)\n",
      "(4291, 12) (4291,)\n"
     ]
    }
   ],
   "source": [
    "# create training and testing vars\n",
    "X_train, X_test, y_train, y_test = train_test_split(train[cols],target, test_size=0.20, random_state = 2021)\n",
    "print (X_train.shape, y_train.shape)\n",
    "print (X_test.shape, y_test.shape)"
   ]
  },
  {
   "cell_type": "code",
   "execution_count": 36,
   "id": "8d32e698",
   "metadata": {},
   "outputs": [],
   "source": [
    "from xgboost import XGBRegressor"
   ]
  },
  {
   "cell_type": "code",
   "execution_count": 37,
   "id": "59e415ee",
   "metadata": {},
   "outputs": [
    {
     "name": "stdout",
     "output_type": "stream",
     "text": [
      "[18:26:06] WARNING: ../src/objective/regression_obj.cu:171: reg:linear is now deprecated in favor of reg:squarederror.\n",
      "Using scikit-lean, the error is 0.0926232170100916\n"
     ]
    }
   ],
   "source": [
    "#instatiate the model\n",
    "xgb=XGBRegressor(objective ='reg:linear', n_estimators= 100, colsample_bynode = 0.8, learning_rate = 0.02,max_depth =  7)\n",
    "xgb.fit(X_train, y_train)\n",
    "y_pred = xgb.predict(X_test)\n",
    "\n",
    "#Evaluation\n",
    "from sklearn.metrics import mean_absolute_error\n",
    "mae = mean_absolute_error(y_test, y_pred)\n",
    "print('Using scikit-lean, the error is {}'.format(mae))"
   ]
  },
  {
   "cell_type": "code",
   "execution_count": 38,
   "id": "000c0164",
   "metadata": {},
   "outputs": [],
   "source": [
    "#Prediction\n",
    "pred = test[cols]\n",
    "predictions_xgb  = xgb.predict(pred)"
   ]
  },
  {
   "cell_type": "code",
   "execution_count": 39,
   "id": "44893b32",
   "metadata": {},
   "outputs": [
    {
     "data": {
      "text/plain": [
       "array([0.20208716, 0.23920254, 0.59922755, ..., 0.33329573, 0.2470805 ,\n",
       "       0.49628353], dtype=float32)"
      ]
     },
     "execution_count": 39,
     "metadata": {},
     "output_type": "execute_result"
    }
   ],
   "source": [
    "predictions_xgb"
   ]
  },
  {
   "cell_type": "code",
   "execution_count": 40,
   "id": "8f809d1f",
   "metadata": {},
   "outputs": [
    {
     "name": "stdout",
     "output_type": "stream",
     "text": [
      "Saved file: x3_sub.csv\n"
     ]
    }
   ],
   "source": [
    "#Formating submission\n",
    "submission = pd.DataFrame({'ID': test.ID, 'Target': predictions_xgb}) # Creating a submission file\n",
    "filename = 'x3_sub.csv'\n",
    "\n",
    "submission.to_csv(filename,index=False)\n",
    "\n",
    "print('Saved file: ' + filename)"
   ]
  },
  {
   "cell_type": "code",
   "execution_count": 41,
   "id": "5d95f6ab",
   "metadata": {},
   "outputs": [
    {
     "data": {
      "text/html": [
       "<div>\n",
       "<style scoped>\n",
       "    .dataframe tbody tr th:only-of-type {\n",
       "        vertical-align: middle;\n",
       "    }\n",
       "\n",
       "    .dataframe tbody tr th {\n",
       "        vertical-align: top;\n",
       "    }\n",
       "\n",
       "    .dataframe thead th {\n",
       "        text-align: right;\n",
       "    }\n",
       "</style>\n",
       "<table border=\"1\" class=\"dataframe\">\n",
       "  <thead>\n",
       "    <tr style=\"text-align: right;\">\n",
       "      <th></th>\n",
       "      <th>ID</th>\n",
       "      <th>Target</th>\n",
       "    </tr>\n",
       "  </thead>\n",
       "  <tbody>\n",
       "    <tr>\n",
       "      <th>0</th>\n",
       "      <td>ID_AAcismbB</td>\n",
       "      <td>0.202087</td>\n",
       "    </tr>\n",
       "    <tr>\n",
       "      <th>1</th>\n",
       "      <td>ID_AAeBMsji</td>\n",
       "      <td>0.239203</td>\n",
       "    </tr>\n",
       "    <tr>\n",
       "      <th>2</th>\n",
       "      <td>ID_AAjFMjzy</td>\n",
       "      <td>0.599228</td>\n",
       "    </tr>\n",
       "    <tr>\n",
       "      <th>3</th>\n",
       "      <td>ID_AAmMOEEC</td>\n",
       "      <td>0.258925</td>\n",
       "    </tr>\n",
       "    <tr>\n",
       "      <th>4</th>\n",
       "      <td>ID_ABguzDxp</td>\n",
       "      <td>0.269207</td>\n",
       "    </tr>\n",
       "    <tr>\n",
       "      <th>...</th>\n",
       "      <td>...</td>\n",
       "      <td>...</td>\n",
       "    </tr>\n",
       "    <tr>\n",
       "      <th>7189</th>\n",
       "      <td>ID_zxzKJCMI</td>\n",
       "      <td>0.219775</td>\n",
       "    </tr>\n",
       "    <tr>\n",
       "      <th>7190</th>\n",
       "      <td>ID_zyBrpgRp</td>\n",
       "      <td>0.260011</td>\n",
       "    </tr>\n",
       "    <tr>\n",
       "      <th>7191</th>\n",
       "      <td>ID_zyMafcYq</td>\n",
       "      <td>0.333296</td>\n",
       "    </tr>\n",
       "    <tr>\n",
       "      <th>7192</th>\n",
       "      <td>ID_zyfMsHMG</td>\n",
       "      <td>0.247081</td>\n",
       "    </tr>\n",
       "    <tr>\n",
       "      <th>7193</th>\n",
       "      <td>ID_zytUOqJv</td>\n",
       "      <td>0.496284</td>\n",
       "    </tr>\n",
       "  </tbody>\n",
       "</table>\n",
       "<p>7194 rows × 2 columns</p>\n",
       "</div>"
      ],
      "text/plain": [
       "               ID    Target\n",
       "0     ID_AAcismbB  0.202087\n",
       "1     ID_AAeBMsji  0.239203\n",
       "2     ID_AAjFMjzy  0.599228\n",
       "3     ID_AAmMOEEC  0.258925\n",
       "4     ID_ABguzDxp  0.269207\n",
       "...           ...       ...\n",
       "7189  ID_zxzKJCMI  0.219775\n",
       "7190  ID_zyBrpgRp  0.260011\n",
       "7191  ID_zyMafcYq  0.333296\n",
       "7192  ID_zyfMsHMG  0.247081\n",
       "7193  ID_zytUOqJv  0.496284\n",
       "\n",
       "[7194 rows x 2 columns]"
      ]
     },
     "execution_count": 41,
     "metadata": {},
     "output_type": "execute_result"
    }
   ],
   "source": [
    "submission"
   ]
  },
  {
   "cell_type": "code",
   "execution_count": null,
   "id": "00bea259",
   "metadata": {},
   "outputs": [],
   "source": []
  }
 ],
 "metadata": {
  "kernelspec": {
   "display_name": "Python 3",
   "language": "python",
   "name": "python3"
  },
  "language_info": {
   "codemirror_mode": {
    "name": "ipython",
    "version": 3
   },
   "file_extension": ".py",
   "mimetype": "text/x-python",
   "name": "python",
   "nbconvert_exporter": "python",
   "pygments_lexer": "ipython3",
   "version": "3.8.8"
  }
 },
 "nbformat": 4,
 "nbformat_minor": 5
}
